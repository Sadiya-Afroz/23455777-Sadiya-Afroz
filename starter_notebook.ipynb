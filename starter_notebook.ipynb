{
  "cells": [
    {
      "cell_type": "markdown",
      "metadata": {
        "id": "view-in-github",
        "colab_type": "text"
      },
      "source": [
        "<a href=\"https://colab.research.google.com/github/Sadiya-Afroz/23455777-Sadiya-Afroz/blob/main/starter_notebook.ipynb\" target=\"_parent\"><img src=\"https://colab.research.google.com/assets/colab-badge.svg\" alt=\"Open In Colab\"/></a>"
      ]
    },
    {
      "cell_type": "markdown",
      "id": "72e78a05",
      "metadata": {
        "id": "72e78a05"
      },
      "source": [
        "# 🌦️ WeatherWise – Starter Notebook\n",
        "\n",
        "Welcome to your **WeatherWise** project notebook! This scaffold is designed to help you build your weather advisor app using Python, visualisations, and AI-enhanced development.\n",
        "\n",
        "---\n",
        "\n",
        "📄 **Full Assignment Specification**  \n",
        "See [`ASSIGNMENT.md`](ASSIGNMENT.md) or check the LMS for full details.\n",
        "\n",
        "📝 **Quick Refresher**  \n",
        "A one-page summary is available in [`resources/assignment-summary.md`](resources/assignment-summary.md).\n",
        "\n",
        "---\n",
        "\n",
        "🧠 **This Notebook Structure is Optional**  \n",
        "You’re encouraged to reorganise, rename sections, or remove scaffold cells if you prefer — as long as your final version meets the requirements.\n",
        "\n",
        "✅ You may delete this note before submission.\n",
        "\n"
      ]
    },
    {
      "cell_type": "markdown",
      "id": "fa8c7f6c",
      "metadata": {
        "id": "fa8c7f6c"
      },
      "source": [
        "## 🧰 Setup and Imports\n",
        "\n",
        "This section imports commonly used packages and installs any additional tools used in the project.\n",
        "\n",
        "- You may not need all of these unless you're using specific features (e.g. visualisations, advanced prompting).\n",
        "- The notebook assumes the following packages are **pre-installed** in the provided environment or installable via pip:\n",
        "  - `requests`, `matplotlib`, `pyinputplus`\n",
        "  - `fetch-my-weather` (for accessing weather data easily)\n",
        "  - `hands-on-ai` (for AI logging, comparisons, or prompting tools)\n",
        "\n",
        "If you're running this notebook in **Google Colab**, uncomment the following lines to install the required packages.\n"
      ]
    },
    {
      "cell_type": "code",
      "execution_count": null,
      "id": "70c3f3f1",
      "metadata": {
        "id": "70c3f3f1",
        "colab": {
          "base_uri": "https://localhost:8080/"
        },
        "outputId": "80096cf4-a0e7-4a3c-b822-fabe4a584862"
      },
      "outputs": [
        {
          "output_type": "stream",
          "name": "stdout",
          "text": [
            "Requirement already satisfied: fetch-my-weather in /usr/local/lib/python3.12/dist-packages (0.4.0)\n",
            "Requirement already satisfied: requests>=2.25.0 in /usr/local/lib/python3.12/dist-packages (from fetch-my-weather) (2.32.4)\n",
            "Requirement already satisfied: pydantic>=1.8.0 in /usr/local/lib/python3.12/dist-packages (from fetch-my-weather) (2.11.10)\n",
            "Requirement already satisfied: annotated-types>=0.6.0 in /usr/local/lib/python3.12/dist-packages (from pydantic>=1.8.0->fetch-my-weather) (0.7.0)\n",
            "Requirement already satisfied: pydantic-core==2.33.2 in /usr/local/lib/python3.12/dist-packages (from pydantic>=1.8.0->fetch-my-weather) (2.33.2)\n",
            "Requirement already satisfied: typing-extensions>=4.12.2 in /usr/local/lib/python3.12/dist-packages (from pydantic>=1.8.0->fetch-my-weather) (4.15.0)\n",
            "Requirement already satisfied: typing-inspection>=0.4.0 in /usr/local/lib/python3.12/dist-packages (from pydantic>=1.8.0->fetch-my-weather) (0.4.2)\n",
            "Requirement already satisfied: charset_normalizer<4,>=2 in /usr/local/lib/python3.12/dist-packages (from requests>=2.25.0->fetch-my-weather) (3.4.4)\n",
            "Requirement already satisfied: idna<4,>=2.5 in /usr/local/lib/python3.12/dist-packages (from requests>=2.25.0->fetch-my-weather) (3.11)\n",
            "Requirement already satisfied: urllib3<3,>=1.21.1 in /usr/local/lib/python3.12/dist-packages (from requests>=2.25.0->fetch-my-weather) (2.5.0)\n",
            "Requirement already satisfied: certifi>=2017.4.17 in /usr/local/lib/python3.12/dist-packages (from requests>=2.25.0->fetch-my-weather) (2025.10.5)\n",
            "Requirement already satisfied: hands-on-ai in /usr/local/lib/python3.12/dist-packages (0.2.1)\n",
            "Requirement already satisfied: requests in /usr/local/lib/python3.12/dist-packages (from hands-on-ai) (2.32.4)\n",
            "Requirement already satisfied: typer in /usr/local/lib/python3.12/dist-packages (from hands-on-ai) (0.19.2)\n",
            "Requirement already satisfied: python-fasthtml in /usr/local/lib/python3.12/dist-packages (from hands-on-ai) (0.12.30)\n",
            "Requirement already satisfied: python-docx in /usr/local/lib/python3.12/dist-packages (from hands-on-ai) (1.2.0)\n",
            "Requirement already satisfied: pymupdf in /usr/local/lib/python3.12/dist-packages (from hands-on-ai) (1.26.5)\n",
            "Requirement already satisfied: scikit-learn in /usr/local/lib/python3.12/dist-packages (from hands-on-ai) (1.6.1)\n",
            "Requirement already satisfied: numpy in /usr/local/lib/python3.12/dist-packages (from hands-on-ai) (2.0.2)\n",
            "Requirement already satisfied: instructor>=1.11.0 in /usr/local/lib/python3.12/dist-packages (from hands-on-ai) (1.11.3)\n",
            "Requirement already satisfied: pydantic>=2.0 in /usr/local/lib/python3.12/dist-packages (from hands-on-ai) (2.11.10)\n",
            "Requirement already satisfied: aiohttp<4.0.0,>=3.9.1 in /usr/local/lib/python3.12/dist-packages (from instructor>=1.11.0->hands-on-ai) (3.13.0)\n",
            "Requirement already satisfied: diskcache>=5.6.3 in /usr/local/lib/python3.12/dist-packages (from instructor>=1.11.0->hands-on-ai) (5.6.3)\n",
            "Requirement already satisfied: docstring-parser<1.0,>=0.16 in /usr/local/lib/python3.12/dist-packages (from instructor>=1.11.0->hands-on-ai) (0.17.0)\n",
            "Requirement already satisfied: jinja2<4.0.0,>=3.1.4 in /usr/local/lib/python3.12/dist-packages (from instructor>=1.11.0->hands-on-ai) (3.1.6)\n",
            "Requirement already satisfied: jiter<0.11,>=0.6.1 in /usr/local/lib/python3.12/dist-packages (from instructor>=1.11.0->hands-on-ai) (0.10.0)\n",
            "Requirement already satisfied: openai<2.0.0,>=1.70.0 in /usr/local/lib/python3.12/dist-packages (from instructor>=1.11.0->hands-on-ai) (1.109.1)\n",
            "Requirement already satisfied: pydantic-core<3.0.0,>=2.18.0 in /usr/local/lib/python3.12/dist-packages (from instructor>=1.11.0->hands-on-ai) (2.33.2)\n",
            "Requirement already satisfied: rich<15.0.0,>=13.7.0 in /usr/local/lib/python3.12/dist-packages (from instructor>=1.11.0->hands-on-ai) (13.9.4)\n",
            "Requirement already satisfied: tenacity<10.0.0,>=8.2.3 in /usr/local/lib/python3.12/dist-packages (from instructor>=1.11.0->hands-on-ai) (8.5.0)\n",
            "Requirement already satisfied: annotated-types>=0.6.0 in /usr/local/lib/python3.12/dist-packages (from pydantic>=2.0->hands-on-ai) (0.7.0)\n",
            "Requirement already satisfied: typing-extensions>=4.12.2 in /usr/local/lib/python3.12/dist-packages (from pydantic>=2.0->hands-on-ai) (4.15.0)\n",
            "Requirement already satisfied: typing-inspection>=0.4.0 in /usr/local/lib/python3.12/dist-packages (from pydantic>=2.0->hands-on-ai) (0.4.2)\n",
            "Requirement already satisfied: charset_normalizer<4,>=2 in /usr/local/lib/python3.12/dist-packages (from requests->hands-on-ai) (3.4.4)\n",
            "Requirement already satisfied: idna<4,>=2.5 in /usr/local/lib/python3.12/dist-packages (from requests->hands-on-ai) (3.11)\n",
            "Requirement already satisfied: urllib3<3,>=1.21.1 in /usr/local/lib/python3.12/dist-packages (from requests->hands-on-ai) (2.5.0)\n",
            "Requirement already satisfied: certifi>=2017.4.17 in /usr/local/lib/python3.12/dist-packages (from requests->hands-on-ai) (2025.10.5)\n",
            "Requirement already satisfied: click>=8.0.0 in /usr/local/lib/python3.12/dist-packages (from typer->hands-on-ai) (8.3.0)\n",
            "Requirement already satisfied: shellingham>=1.3.0 in /usr/local/lib/python3.12/dist-packages (from typer->hands-on-ai) (1.5.4)\n",
            "Requirement already satisfied: lxml>=3.1.0 in /usr/local/lib/python3.12/dist-packages (from python-docx->hands-on-ai) (5.4.0)\n",
            "Requirement already satisfied: fastcore>=1.8.1 in /usr/local/lib/python3.12/dist-packages (from python-fasthtml->hands-on-ai) (1.8.12)\n",
            "Requirement already satisfied: python-dateutil in /usr/local/lib/python3.12/dist-packages (from python-fasthtml->hands-on-ai) (2.9.0.post0)\n",
            "Requirement already satisfied: starlette>0.33 in /usr/local/lib/python3.12/dist-packages (from python-fasthtml->hands-on-ai) (0.48.0)\n",
            "Requirement already satisfied: oauthlib in /usr/local/lib/python3.12/dist-packages (from python-fasthtml->hands-on-ai) (3.3.1)\n",
            "Requirement already satisfied: itsdangerous in /usr/local/lib/python3.12/dist-packages (from python-fasthtml->hands-on-ai) (2.2.0)\n",
            "Requirement already satisfied: uvicorn>=0.30 in /usr/local/lib/python3.12/dist-packages (from uvicorn[standard]>=0.30->python-fasthtml->hands-on-ai) (0.37.0)\n",
            "Requirement already satisfied: httpx in /usr/local/lib/python3.12/dist-packages (from python-fasthtml->hands-on-ai) (0.28.1)\n",
            "Requirement already satisfied: fastlite>=0.1.1 in /usr/local/lib/python3.12/dist-packages (from python-fasthtml->hands-on-ai) (0.2.1)\n",
            "Requirement already satisfied: python-multipart in /usr/local/lib/python3.12/dist-packages (from python-fasthtml->hands-on-ai) (0.0.20)\n",
            "Requirement already satisfied: beautifulsoup4 in /usr/local/lib/python3.12/dist-packages (from python-fasthtml->hands-on-ai) (4.13.5)\n",
            "Requirement already satisfied: scipy>=1.6.0 in /usr/local/lib/python3.12/dist-packages (from scikit-learn->hands-on-ai) (1.16.2)\n",
            "Requirement already satisfied: joblib>=1.2.0 in /usr/local/lib/python3.12/dist-packages (from scikit-learn->hands-on-ai) (1.5.2)\n",
            "Requirement already satisfied: threadpoolctl>=3.1.0 in /usr/local/lib/python3.12/dist-packages (from scikit-learn->hands-on-ai) (3.6.0)\n",
            "Requirement already satisfied: aiohappyeyeballs>=2.5.0 in /usr/local/lib/python3.12/dist-packages (from aiohttp<4.0.0,>=3.9.1->instructor>=1.11.0->hands-on-ai) (2.6.1)\n",
            "Requirement already satisfied: aiosignal>=1.4.0 in /usr/local/lib/python3.12/dist-packages (from aiohttp<4.0.0,>=3.9.1->instructor>=1.11.0->hands-on-ai) (1.4.0)\n",
            "Requirement already satisfied: attrs>=17.3.0 in /usr/local/lib/python3.12/dist-packages (from aiohttp<4.0.0,>=3.9.1->instructor>=1.11.0->hands-on-ai) (25.4.0)\n",
            "Requirement already satisfied: frozenlist>=1.1.1 in /usr/local/lib/python3.12/dist-packages (from aiohttp<4.0.0,>=3.9.1->instructor>=1.11.0->hands-on-ai) (1.8.0)\n",
            "Requirement already satisfied: multidict<7.0,>=4.5 in /usr/local/lib/python3.12/dist-packages (from aiohttp<4.0.0,>=3.9.1->instructor>=1.11.0->hands-on-ai) (6.7.0)\n",
            "Requirement already satisfied: propcache>=0.2.0 in /usr/local/lib/python3.12/dist-packages (from aiohttp<4.0.0,>=3.9.1->instructor>=1.11.0->hands-on-ai) (0.4.1)\n",
            "Requirement already satisfied: yarl<2.0,>=1.17.0 in /usr/local/lib/python3.12/dist-packages (from aiohttp<4.0.0,>=3.9.1->instructor>=1.11.0->hands-on-ai) (1.22.0)\n",
            "Requirement already satisfied: packaging in /usr/local/lib/python3.12/dist-packages (from fastcore>=1.8.1->python-fasthtml->hands-on-ai) (25.0)\n",
            "Requirement already satisfied: apswutils>=0.1.0 in /usr/local/lib/python3.12/dist-packages (from fastlite>=0.1.1->python-fasthtml->hands-on-ai) (0.1.0)\n",
            "Requirement already satisfied: MarkupSafe>=2.0 in /usr/local/lib/python3.12/dist-packages (from jinja2<4.0.0,>=3.1.4->instructor>=1.11.0->hands-on-ai) (3.0.3)\n",
            "Requirement already satisfied: anyio<5,>=3.5.0 in /usr/local/lib/python3.12/dist-packages (from openai<2.0.0,>=1.70.0->instructor>=1.11.0->hands-on-ai) (4.11.0)\n",
            "Requirement already satisfied: distro<2,>=1.7.0 in /usr/local/lib/python3.12/dist-packages (from openai<2.0.0,>=1.70.0->instructor>=1.11.0->hands-on-ai) (1.9.0)\n",
            "Requirement already satisfied: sniffio in /usr/local/lib/python3.12/dist-packages (from openai<2.0.0,>=1.70.0->instructor>=1.11.0->hands-on-ai) (1.3.1)\n",
            "Requirement already satisfied: tqdm>4 in /usr/local/lib/python3.12/dist-packages (from openai<2.0.0,>=1.70.0->instructor>=1.11.0->hands-on-ai) (4.67.1)\n",
            "Requirement already satisfied: httpcore==1.* in /usr/local/lib/python3.12/dist-packages (from httpx->python-fasthtml->hands-on-ai) (1.0.9)\n",
            "Requirement already satisfied: h11>=0.16 in /usr/local/lib/python3.12/dist-packages (from httpcore==1.*->httpx->python-fasthtml->hands-on-ai) (0.16.0)\n",
            "Requirement already satisfied: markdown-it-py>=2.2.0 in /usr/local/lib/python3.12/dist-packages (from rich<15.0.0,>=13.7.0->instructor>=1.11.0->hands-on-ai) (4.0.0)\n",
            "Requirement already satisfied: pygments<3.0.0,>=2.13.0 in /usr/local/lib/python3.12/dist-packages (from rich<15.0.0,>=13.7.0->instructor>=1.11.0->hands-on-ai) (2.19.2)\n",
            "Requirement already satisfied: httptools>=0.6.3 in /usr/local/lib/python3.12/dist-packages (from uvicorn[standard]>=0.30->python-fasthtml->hands-on-ai) (0.7.1)\n",
            "Requirement already satisfied: python-dotenv>=0.13 in /usr/local/lib/python3.12/dist-packages (from uvicorn[standard]>=0.30->python-fasthtml->hands-on-ai) (1.1.1)\n",
            "Requirement already satisfied: pyyaml>=5.1 in /usr/local/lib/python3.12/dist-packages (from uvicorn[standard]>=0.30->python-fasthtml->hands-on-ai) (6.0.3)\n",
            "Requirement already satisfied: uvloop>=0.15.1 in /usr/local/lib/python3.12/dist-packages (from uvicorn[standard]>=0.30->python-fasthtml->hands-on-ai) (0.22.1)\n",
            "Requirement already satisfied: watchfiles>=0.13 in /usr/local/lib/python3.12/dist-packages (from uvicorn[standard]>=0.30->python-fasthtml->hands-on-ai) (1.1.1)\n",
            "Requirement already satisfied: websockets>=10.4 in /usr/local/lib/python3.12/dist-packages (from uvicorn[standard]>=0.30->python-fasthtml->hands-on-ai) (15.0.1)\n",
            "Requirement already satisfied: soupsieve>1.2 in /usr/local/lib/python3.12/dist-packages (from beautifulsoup4->python-fasthtml->hands-on-ai) (2.8)\n",
            "Requirement already satisfied: six>=1.5 in /usr/local/lib/python3.12/dist-packages (from python-dateutil->python-fasthtml->hands-on-ai) (1.17.0)\n",
            "Requirement already satisfied: apsw in /usr/local/lib/python3.12/dist-packages (from apswutils>=0.1.0->fastlite>=0.1.1->python-fasthtml->hands-on-ai) (3.50.4.0)\n",
            "Requirement already satisfied: mdurl~=0.1 in /usr/local/lib/python3.12/dist-packages (from markdown-it-py>=2.2.0->rich<15.0.0,>=13.7.0->instructor>=1.11.0->hands-on-ai) (0.1.2)\n"
          ]
        }
      ],
      "source": [
        "# 🧪 Optional packages — uncomment if needed in Colab or JupyterHub\n",
        "!pip install fetch-my-weather\n",
        "!pip install hands-on-ai\n"
      ]
    },
    {
      "cell_type": "code",
      "source": [
        "import os\n",
        "\n",
        "os.environ['HANDS_ON_AI_SERVER'] = 'http://ollama.serveur.au'\n",
        "os.environ['HANDS_ON_AI_MODEL'] = 'granite3.2'\n",
        "os.environ['HANDS_ON_AI_API_KEY'] = input('Enter your API key: ')"
      ],
      "metadata": {
        "id": "B2JKlJfrGgIb",
        "outputId": "dea9947e-0d3d-472a-c0b4-679bc0282264",
        "colab": {
          "base_uri": "https://localhost:8080/"
        }
      },
      "id": "B2JKlJfrGgIb",
      "execution_count": null,
      "outputs": [
        {
          "name": "stdout",
          "output_type": "stream",
          "text": [
            "Enter your API key: 395138d1eb0d4a39b6ce9d8a7a7c2f8c.sGzR6Fs8F-H4RGjUzBbcBn9p\n"
          ]
        }
      ]
    },
    {
      "cell_type": "markdown",
      "id": "59ae7543",
      "metadata": {
        "id": "59ae7543"
      },
      "source": [
        "## 📦 Setup and Configuration\n",
        "Import required packages and setup environment."
      ]
    },
    {
      "cell_type": "code",
      "execution_count": 18,
      "id": "f1dd051e",
      "metadata": {
        "id": "f1dd051e",
        "outputId": "4ceac786-61f4-49ac-9eee-5411d4455fa0",
        "colab": {
          "base_uri": "https://localhost:8080/"
        }
      },
      "outputs": [
        {
          "output_type": "stream",
          "name": "stdout",
          "text": [
            "Requirement already satisfied: pyinputplus in /usr/local/lib/python3.12/dist-packages (0.2.12)\n",
            "Requirement already satisfied: pysimplevalidate>=0.2.7 in /usr/local/lib/python3.12/dist-packages (from pyinputplus) (0.2.12)\n",
            "Requirement already satisfied: stdiomask>=0.0.3 in /usr/local/lib/python3.12/dist-packages (from pyinputplus) (0.0.6)\n"
          ]
        }
      ],
      "source": [
        "!pip install pyinputplus\n",
        "import requests\n",
        "import matplotlib.pyplot as plt\n",
        "import pyinputplus as pyip\n",
        "# ✅ Import after installing (if needed)\n",
        "from fetch_my_weather import get_weather\n",
        "from hands_on_ai.chat import get_response\n",
        "\n",
        "# Add any other setup code here"
      ]
    },
    {
      "cell_type": "markdown",
      "id": "f736ade3",
      "metadata": {
        "id": "f736ade3"
      },
      "source": [
        "## 🌤️ Weather Data Functions"
      ]
    },
    {
      "cell_type": "code",
      "execution_count": 20,
      "id": "7a2c7cd0",
      "metadata": {
        "id": "7a2c7cd0"
      },
      "outputs": [],
      "source": [
        "import fetch_my_weather\n",
        "\n",
        "def get_weather_data(location, forecast_days=5):\n",
        "    \"\"\"\n",
        "    Retrieve weather data for a specified location using the fetch-my-weather package.\n",
        "\n",
        "    Args:\n",
        "        location (str): City or location name (e.g. \"Perth\")\n",
        "        forecast_days (int): Number of days to forecast (1–5)\n",
        "\n",
        "    Returns:\n",
        "        dict: Weather data including current conditions and forecast\n",
        "    \"\"\"\n",
        "    try:\n",
        "        # Use mock mode while testing, disable for real data\n",
        "        fetch_my_weather.set_mock_mode(True)\n",
        "\n",
        "        # Fetch data in simple JSON dictionary format\n",
        "        weather = fetch_my_weather.get_weather(location=location, format=\"raw_json\")\n",
        "\n",
        "        if not weather:\n",
        "            print(\"⚠️ No data returned. Check your internet connection or location spelling.\")\n",
        "            return None\n",
        "\n",
        "        # Only keep up to 'forecast_days' days of data\n",
        "        if \"weather\" in weather:\n",
        "            weather[\"weather\"] = weather[\"weather\"][:forecast_days]\n",
        "\n",
        "        return weather\n",
        "\n",
        "    except Exception as e:\n",
        "        print(\"❌ Error fetching weather data:\", e)\n",
        "        return None\n"
      ]
    },
    {
      "cell_type": "markdown",
      "id": "8a744fdc",
      "metadata": {
        "id": "8a744fdc"
      },
      "source": [
        "## 📊 Visualisation Functions"
      ]
    },
    {
      "cell_type": "code",
      "execution_count": null,
      "id": "9dc3bf85",
      "metadata": {
        "id": "9dc3bf85"
      },
      "outputs": [],
      "source": [
        "import matplotlib.pyplot as plt\n",
        "\n",
        "def create_temperature_visualisation(weather_data, output_type='display'):\n",
        "    \"\"\"\n",
        "    Create a line chart showing the average temperature for each forecast day.\n",
        "\n",
        "    Args:\n",
        "        weather_data (dict): The weather data returned by get_weather_data()\n",
        "        output_type (str): 'display' to show in notebook, 'figure' to return the chart object\n",
        "\n",
        "    Returns:\n",
        "        If output_type == 'figure', returns the matplotlib Figure object.\n",
        "        Otherwise, displays the chart directly in the notebook.\n",
        "    \"\"\"\n",
        "    # Try to get forecast section\n",
        "    days = weather_data.get(\"weather\", [])\n",
        "    if not days:\n",
        "        print(\"⚠️ No forecast data available.\")\n",
        "        return\n",
        "\n",
        "    dates = []\n",
        "    temps = []\n",
        "\n",
        "    for day in days:\n",
        "        date = day.get(\"date\", \"N/A\")\n",
        "        avg_temp = day.get(\"avgtempC\") or day.get(\"avgtemp\", 0)\n",
        "        try:\n",
        "            avg_temp = int(avg_temp)\n",
        "        except Exception:\n",
        "            avg_temp = 0\n",
        "        dates.append(date)\n",
        "        temps.append(avg_temp)\n",
        "\n",
        "    if not any(temps):\n",
        "        print(\"⚠️ Temperature data missing or zero — check your data source.\")\n",
        "        return\n",
        "\n",
        "    fig = plt.figure()\n",
        "    plt.plot(dates, temps, marker='o', color='orange', linewidth=2)\n",
        "    plt.title(\"Average Temperature Over Time (°C)\")\n",
        "    plt.xlabel(\"Date\")\n",
        "    plt.ylabel(\"Temperature (°C)\")\n",
        "    plt.grid(True)\n",
        "\n",
        "    if output_type == 'figure':\n",
        "        return fig\n",
        "    else:\n",
        "        plt.show()\n",
        "\n",
        "\n",
        "\n",
        "def create_precipitation_visualisation(weather_data, output_type='display'):\n",
        "    \"\"\"\n",
        "    Create a bar chart showing the chance of rain for each forecast day.\n",
        "\n",
        "    Args:\n",
        "        weather_data (dict): The weather data returned by get_weather_data()\n",
        "        output_type (str): 'display' to show in notebook, 'figure' to return the chart object\n",
        "\n",
        "    Returns:\n",
        "        If output_type == 'figure', returns the matplotlib Figure object.\n",
        "        Otherwise, displays the chart directly in the notebook.\n",
        "    \"\"\"\n",
        "    days = weather_data.get(\"weather\", [])\n",
        "    if not days:\n",
        "        print(\"⚠️ No forecast data available.\")\n",
        "        return\n",
        "\n",
        "    dates = []\n",
        "    rain_chances = []\n",
        "\n",
        "    for day in days:\n",
        "        date = day.get(\"date\", \"N/A\")\n",
        "\n",
        "        # Safely access hourly data\n",
        "        hourly = day.get(\"hourly\", [])\n",
        "        if not hourly:\n",
        "            rain_chance = 0\n",
        "        else:\n",
        "            # Choose midday record if available\n",
        "            midday = hourly[4] if len(hourly) > 4 else hourly[0]\n",
        "            # Some APIs use 'chanceofrain', others use 'chance_of_rain'\n",
        "            rain_chance = midday.get(\"chanceofrain\") or midday.get(\"chance_of_rain\") or 0\n",
        "            try:\n",
        "                rain_chance = int(rain_chance)\n",
        "            except Exception:\n",
        "                rain_chance = 0\n",
        "\n",
        "        dates.append(date)\n",
        "        rain_chances.append(rain_chance)\n",
        "\n",
        "    if not any(rain_chances):\n",
        "        print(\"⚠️ No precipitation data found — check your data structure or API mode.\")\n",
        "        return\n",
        "\n",
        "    fig = plt.figure()\n",
        "    plt.bar(dates, rain_chances, color='skyblue')\n",
        "    plt.title(\"Chance of Rain (%)\")\n",
        "    plt.xlabel(\"Date\")\n",
        "    plt.ylabel(\"Chance (%)\")\n",
        "    plt.ylim(0, 100)\n",
        "\n",
        "    if output_type == 'figure':\n",
        "        return fig\n",
        "    else:\n",
        "        plt.show()\n"
      ]
    },
    {
      "cell_type": "markdown",
      "id": "9f95d160",
      "metadata": {
        "id": "9f95d160"
      },
      "source": [
        "## 🤖 Natural Language Processing"
      ]
    },
    {
      "cell_type": "code",
      "execution_count": 25,
      "id": "bcc5833e",
      "metadata": {
        "id": "bcc5833e"
      },
      "outputs": [],
      "source": [
        "def parse_weather_question(question):\n",
        "    \"\"\"\n",
        "    Parse a natural language weather question.\n",
        "\n",
        "    Args:\n",
        "        question (str): User's weather-related question (e.g., \"Will it rain tomorrow in Sydney?\")\n",
        "\n",
        "    Returns:\n",
        "        dict: Extracted information including location, time period, and weather attribute.\n",
        "              Example: {\"topic\": \"rain\", \"location\": \"Sydney\", \"time\": \"tomorrow\"}\n",
        "    \"\"\"\n",
        "    # Make everything lowercase for easier comparison\n",
        "    q = (question or \"\").lower()\n",
        "\n",
        "    # Default topic\n",
        "    topic = \"general\"\n",
        "\n",
        "    # Detect topic keywords\n",
        "    if \"rain\" in q or \"umbrella\" in q:\n",
        "        topic = \"rain\"\n",
        "    elif \"temperature\" in q or \"hot\" in q or \"cold\" in q or \"warm\" in q:\n",
        "        topic = \"temperature\"\n",
        "    elif \"wind\" in q:\n",
        "        topic = \"wind\"\n",
        "    elif \"humid\" in q or \"humidity\" in q:\n",
        "        topic = \"humidity\"\n",
        "\n",
        "    # Detect time period\n",
        "    time = \"today\"\n",
        "    if \"tomorrow\" in q:\n",
        "        time = \"tomorrow\"\n",
        "    elif \"weekend\" in q:\n",
        "        time = \"weekend\"\n",
        "\n",
        "    # Try to find location after the word \"in\"\n",
        "    location = None\n",
        "    if \" in \" in q:\n",
        "        location = q.split(\" in \", 1)[1].strip(\" ?.,!\")\n",
        "\n",
        "    # Return all extracted info\n",
        "    return {\n",
        "        \"topic\": topic,\n",
        "        \"location\": location,\n",
        "        \"time\": time\n",
        "    }\n"
      ]
    },
    {
      "cell_type": "markdown",
      "id": "0d85225e",
      "metadata": {
        "id": "0d85225e"
      },
      "source": [
        "## 🧭 User Interface"
      ]
    },
    {
      "cell_type": "code",
      "execution_count": null,
      "id": "fa6cb0f6",
      "metadata": {
        "id": "fa6cb0f6",
        "colab": {
          "base_uri": "https://localhost:8080/",
          "height": 1000
        },
        "outputId": "0ead4659-7f19-45d6-9af2-1a61c6272dff"
      },
      "outputs": [
        {
          "output_type": "stream",
          "name": "stdout",
          "text": [
            "🌦️ Welcome to WeatherWise!\n",
            "\n",
            "Main Menu - Choose an option:\n",
            "1. Run once\n",
            "2. Quit\n",
            "1\n",
            "🌍 Enter a city name (e.g., Perth, Sydney): Perth\n",
            "\n",
            "📋 Current Weather Summary:\n",
            "🌤️ Right now it’s 17°C with partly cloudy, humidity 71%, and wind speed around 11 km/h.\n",
            "\n",
            "📈 Generating charts...\n"
          ]
        },
        {
          "output_type": "display_data",
          "data": {
            "text/plain": [
              "<Figure size 640x480 with 1 Axes>"
            ],
            "image/png": "[encoded data removed]"
          },
          "metadata": {}
        },
        {
          "output_type": "display_data",
          "data": {
            "text/plain": [
              "<Figure size 640x480 with 1 Axes>"
            ],
            "image/png": "[encoded data removed]"
          },
          "metadata": {}
        },
        {
          "output_type": "stream",
          "name": "stdout",
          "text": [
            "\n",
            "💬 Ask a weather question (e.g., Will it rain tomorrow in Perth?): "
          ]
        }
      ],
      "source": [
        "import pyinputplus as pyip\n",
        "\n",
        "def run_once():\n",
        "    \"\"\"\n",
        "    Run one full weather check session:\n",
        "    - Ask for a city\n",
        "    - Display current summary\n",
        "    - Show temperature and rain charts\n",
        "    - Answer one natural language question\n",
        "    \"\"\"\n",
        "    # Ask for a city name\n",
        "    city = pyip.inputStr(\"🌍 Enter a city name (e.g., Perth, Sydney): \")\n",
        "\n",
        "    # Fetch weather data\n",
        "    weather_data = get_weather_data(city)\n",
        "    if not weather_data:\n",
        "        print(\"⚠️ Could not fetch data. Please try again.\")\n",
        "        return\n",
        "\n",
        "    # Display current summary\n",
        "    print(\"\\n📋 Current Weather Summary:\")\n",
        "    print(generate_weather_response({\"topic\": \"general\"}, weather_data))\n",
        "\n",
        "    # Show charts\n",
        "    print(\"\\n📈 Generating charts...\")\n",
        "    create_temperature_visualisation(weather_data)\n",
        "    create_precipitation_visualisation(weather_data)\n",
        "\n",
        "    # Let user ask a question\n",
        "    question = pyip.inputStr(\"\\n💬 Ask a weather question (e.g., Will it rain tomorrow in Perth?): \")\n",
        "    parsed = parse_weather_question(question)\n",
        "\n",
        "    # Use the location from the question if provided\n",
        "    if parsed.get(\"location\") and parsed[\"location\"].lower() != city.lower():\n",
        "        weather_data = get_weather_data(parsed[\"location\"])\n",
        "\n",
        "    # Generate and show the response\n",
        "    print(\"\\n🤖 Answer:\")\n",
        "    print(generate_weather_response(parsed, weather_data))\n",
        "\n",
        "\n",
        "def main_menu():\n",
        "    \"\"\"\n",
        "    A simple text-based main menu.\n",
        "    Lets the user choose to run the app or quit.\n",
        "    \"\"\"\n",
        "    print(\"🌦️ Welcome to WeatherWise!\")\n",
        "    while True:\n",
        "        choice = pyip.inputMenu(\n",
        "            [\"Run once\", \"Quit\"],\n",
        "            numbered=True,\n",
        "            prompt=\"\\nMain Menu - Choose an option:\\n\"\n",
        "        )\n",
        "\n",
        "        if choice == \"Run once\":\n",
        "            run_once()\n",
        "        else:\n",
        "            print(\"👋 Goodbye! Stay safe and check the weather again soon.\")\n",
        "            break\n",
        "\n",
        "\n",
        "# 🚀 Launch the main menu\n",
        "main_menu()\n"
      ]
    },
    {
      "cell_type": "markdown",
      "id": "d643a53c",
      "metadata": {
        "id": "d643a53c"
      },
      "source": [
        "## 🧩 Main Application Logic"
      ]
    },
    {
      "cell_type": "code",
      "execution_count": 27,
      "id": "a9e2e805",
      "metadata": {
        "id": "a9e2e805"
      },
      "outputs": [],
      "source": [
        "def generate_weather_response(parsed_question, weather_data):\n",
        "    \"\"\"\n",
        "    Generate a natural language response to a weather question.\n",
        "\n",
        "    Args:\n",
        "        parsed_question (dict): Parsed question data\n",
        "        weather_data (dict): Weather data from get_weather_data()\n",
        "\n",
        "    Returns:\n",
        "        str: A simple, human-friendly weather response.\n",
        "    \"\"\"\n",
        "    if not weather_data:\n",
        "        return \"⚠️ Sorry, I couldn’t find any weather information right now.\"\n",
        "\n",
        "    try:\n",
        "        # Get basic current conditions\n",
        "        current = weather_data.get(\"current_condition\", [{}])[0]\n",
        "        temp_c = current.get(\"temp_C\", \"N/A\")\n",
        "        condition = current.get(\"weatherDesc\", [{\"value\": \"unknown\"}])[0][\"value\"]\n",
        "        humidity = current.get(\"humidity\", \"N/A\")\n",
        "        wind = current.get(\"windspeedKmph\", \"N/A\")\n",
        "\n",
        "        topic = parsed_question.get(\"topic\", \"general\")\n",
        "        time = parsed_question.get(\"time\", \"today\")\n",
        "\n",
        "        # Start building a reply\n",
        "        if topic == \"rain\":\n",
        "            # Get today's rain chance\n",
        "            today = weather_data.get(\"weather\", [{}])[0]\n",
        "            hourly = today.get(\"hourly\", [])\n",
        "            midday = hourly[4] if len(hourly) > 4 else (hourly[0] if hourly else {})\n",
        "            chance = midday.get(\"chanceofrain\", \"N/A\")\n",
        "            response = f\"☔ The chance of rain {time} is around {chance}%. Current condition: {condition}.\"\n",
        "\n",
        "        elif topic == \"temperature\":\n",
        "            response = f\"🌡️ The temperature {time} is around {temp_c}°C with {condition.lower()} conditions.\"\n",
        "\n",
        "        elif topic == \"wind\":\n",
        "            response = f\"🌬️ The wind speed {time} is about {wind} km/h. It’s currently {condition.lower()}.\"\n",
        "\n",
        "        elif topic == \"humidity\":\n",
        "            response = f\"💧 The humidity {time} is about {humidity}%. It’s {condition.lower()} outside.\"\n",
        "\n",
        "        else:\n",
        "            response = (\n",
        "                f\"🌤️ Right now it’s {temp_c}°C with {condition.lower()}, \"\n",
        "                f\"humidity {humidity}%, and wind speed around {wind} km/h.\"\n",
        "            )\n",
        "\n",
        "        return response\n",
        "\n",
        "    except Exception as e:\n",
        "        return f\"⚠️ Sorry, I couldn’t generate the weather response. ({e})\"\n"
      ]
    },
    {
      "cell_type": "markdown",
      "id": "fde44479",
      "metadata": {
        "id": "fde44479"
      },
      "source": [
        "## 🧪 Testing and Examples"
      ]
    },
    {
      "cell_type": "code",
      "execution_count": null,
      "id": "4e573901",
      "metadata": {
        "id": "4e573901"
      },
      "outputs": [],
      "source": [
        "# Include sample input/output for each function"
      ]
    },
    {
      "cell_type": "markdown",
      "id": "d2885880",
      "metadata": {
        "id": "d2885880"
      },
      "source": [
        "## 🗂️ AI Prompting Log (Optional)\n",
        "Add markdown cells here summarising prompts used or link to AI conversations in the `ai-conversations/` folder."
      ]
    }
  ],
  "metadata": {
    "language_info": {
      "name": "python"
    },
    "colab": {
      "provenance": [],
      "include_colab_link": true
    },
    "kernelspec": {
      "name": "python3",
      "display_name": "Python 3"
    }
  },
  "nbformat": 4,
  "nbformat_minor": 5
}