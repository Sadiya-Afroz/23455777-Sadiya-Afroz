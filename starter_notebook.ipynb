{
  "cells": [
    {
      "cell_type": "markdown",
      "metadata": {
        "id": "view-in-github",
        "colab_type": "text"
      },
      "source": [
        "<a href=\"https://colab.research.google.com/github/Sadiya-Afroz/23455777-Sadiya-Afroz/blob/main/starter_notebook.ipynb\" target=\"_parent\"><img src=\"https://colab.research.google.com/assets/colab-badge.svg\" alt=\"Open In Colab\"/></a>"
      ]
    },
    {
      "cell_type": "markdown",
      "id": "72e78a05",
      "metadata": {
        "id": "72e78a05"
      },
      "source": [
        "# 🌦️ WeatherWise – Starter Notebook\n",
        "\n",
        "Welcome to your **WeatherWise** project notebook! This scaffold is designed to help you build your weather advisor app using Python, visualisations, and AI-enhanced development.\n",
        "\n",
        "---\n",
        "\n",
        "📄 **Full Assignment Specification**  \n",
        "See [`ASSIGNMENT.md`](ASSIGNMENT.md) or check the LMS for full details.\n",
        "\n",
        "📝 **Quick Refresher**  \n",
        "A one-page summary is available in [`resources/assignment-summary.md`](resources/assignment-summary.md).\n",
        "\n",
        "---\n",
        "\n",
        "🧠 **This Notebook Structure is Optional**  \n",
        "You’re encouraged to reorganise, rename sections, or remove scaffold cells if you prefer — as long as your final version meets the requirements.\n",
        "\n",
        "✅ You may delete this note before submission.\n",
        "\n"
      ]
    },
    {
      "cell_type": "markdown",
      "id": "fa8c7f6c",
      "metadata": {
        "id": "fa8c7f6c"
      },
      "source": [
        "## 🧰 Setup and Imports\n",
        "\n",
        "This section imports commonly used packages and installs any additional tools used in the project.\n",
        "\n",
        "- You may not need all of these unless you're using specific features (e.g. visualisations, advanced prompting).\n",
        "- The notebook assumes the following packages are **pre-installed** in the provided environment or installable via pip:\n",
        "  - `requests`, `matplotlib`, `pyinputplus`\n",
        "  - `fetch-my-weather` (for accessing weather data easily)\n",
        "  - `hands-on-ai` (for AI logging, comparisons, or prompting tools)\n",
        "\n",
        "If you're running this notebook in **Google Colab**, uncomment the following lines to install the required packages.\n"
      ]
    },
    {
      "cell_type": "code",
      "execution_count": null,
      "id": "70c3f3f1",
      "metadata": {
        "id": "70c3f3f1",
        "colab": {
          "base_uri": "https://localhost:8080/"
        },
        "outputId": "80096cf4-a0e7-4a3c-b822-fabe4a584862"
      },
      "outputs": [
        {
          "output_type": "stream",
          "name": "stdout",
          "text": [
            "Requirement already satisfied: fetch-my-weather in /usr/local/lib/python3.12/dist-packages (0.4.0)\n",
            "Requirement already satisfied: requests>=2.25.0 in /usr/local/lib/python3.12/dist-packages (from fetch-my-weather) (2.32.4)\n",
            "Requirement already satisfied: pydantic>=1.8.0 in /usr/local/lib/python3.12/dist-packages (from fetch-my-weather) (2.11.10)\n",
            "Requirement already satisfied: annotated-types>=0.6.0 in /usr/local/lib/python3.12/dist-packages (from pydantic>=1.8.0->fetch-my-weather) (0.7.0)\n",
            "Requirement already satisfied: pydantic-core==2.33.2 in /usr/local/lib/python3.12/dist-packages (from pydantic>=1.8.0->fetch-my-weather) (2.33.2)\n",
            "Requirement already satisfied: typing-extensions>=4.12.2 in /usr/local/lib/python3.12/dist-packages (from pydantic>=1.8.0->fetch-my-weather) (4.15.0)\n",
            "Requirement already satisfied: typing-inspection>=0.4.0 in /usr/local/lib/python3.12/dist-packages (from pydantic>=1.8.0->fetch-my-weather) (0.4.2)\n",
            "Requirement already satisfied: charset_normalizer<4,>=2 in /usr/local/lib/python3.12/dist-packages (from requests>=2.25.0->fetch-my-weather) (3.4.4)\n",
            "Requirement already satisfied: idna<4,>=2.5 in /usr/local/lib/python3.12/dist-packages (from requests>=2.25.0->fetch-my-weather) (3.11)\n",
            "Requirement already satisfied: urllib3<3,>=1.21.1 in /usr/local/lib/python3.12/dist-packages (from requests>=2.25.0->fetch-my-weather) (2.5.0)\n",
            "Requirement already satisfied: certifi>=2017.4.17 in /usr/local/lib/python3.12/dist-packages (from requests>=2.25.0->fetch-my-weather) (2025.10.5)\n",
            "Requirement already satisfied: hands-on-ai in /usr/local/lib/python3.12/dist-packages (0.2.1)\n",
            "Requirement already satisfied: requests in /usr/local/lib/python3.12/dist-packages (from hands-on-ai) (2.32.4)\n",
            "Requirement already satisfied: typer in /usr/local/lib/python3.12/dist-packages (from hands-on-ai) (0.19.2)\n",
            "Requirement already satisfied: python-fasthtml in /usr/local/lib/python3.12/dist-packages (from hands-on-ai) (0.12.30)\n",
            "Requirement already satisfied: python-docx in /usr/local/lib/python3.12/dist-packages (from hands-on-ai) (1.2.0)\n",
            "Requirement already satisfied: pymupdf in /usr/local/lib/python3.12/dist-packages (from hands-on-ai) (1.26.5)\n",
            "Requirement already satisfied: scikit-learn in /usr/local/lib/python3.12/dist-packages (from hands-on-ai) (1.6.1)\n",
            "Requirement already satisfied: numpy in /usr/local/lib/python3.12/dist-packages (from hands-on-ai) (2.0.2)\n",
            "Requirement already satisfied: instructor>=1.11.0 in /usr/local/lib/python3.12/dist-packages (from hands-on-ai) (1.11.3)\n",
            "Requirement already satisfied: pydantic>=2.0 in /usr/local/lib/python3.12/dist-packages (from hands-on-ai) (2.11.10)\n",
            "Requirement already satisfied: aiohttp<4.0.0,>=3.9.1 in /usr/local/lib/python3.12/dist-packages (from instructor>=1.11.0->hands-on-ai) (3.13.0)\n",
            "Requirement already satisfied: diskcache>=5.6.3 in /usr/local/lib/python3.12/dist-packages (from instructor>=1.11.0->hands-on-ai) (5.6.3)\n",
            "Requirement already satisfied: docstring-parser<1.0,>=0.16 in /usr/local/lib/python3.12/dist-packages (from instructor>=1.11.0->hands-on-ai) (0.17.0)\n",
            "Requirement already satisfied: jinja2<4.0.0,>=3.1.4 in /usr/local/lib/python3.12/dist-packages (from instructor>=1.11.0->hands-on-ai) (3.1.6)\n",
            "Requirement already satisfied: jiter<0.11,>=0.6.1 in /usr/local/lib/python3.12/dist-packages (from instructor>=1.11.0->hands-on-ai) (0.10.0)\n",
            "Requirement already satisfied: openai<2.0.0,>=1.70.0 in /usr/local/lib/python3.12/dist-packages (from instructor>=1.11.0->hands-on-ai) (1.109.1)\n",
            "Requirement already satisfied: pydantic-core<3.0.0,>=2.18.0 in /usr/local/lib/python3.12/dist-packages (from instructor>=1.11.0->hands-on-ai) (2.33.2)\n",
            "Requirement already satisfied: rich<15.0.0,>=13.7.0 in /usr/local/lib/python3.12/dist-packages (from instructor>=1.11.0->hands-on-ai) (13.9.4)\n",
            "Requirement already satisfied: tenacity<10.0.0,>=8.2.3 in /usr/local/lib/python3.12/dist-packages (from instructor>=1.11.0->hands-on-ai) (8.5.0)\n",
            "Requirement already satisfied: annotated-types>=0.6.0 in /usr/local/lib/python3.12/dist-packages (from pydantic>=2.0->hands-on-ai) (0.7.0)\n",
            "Requirement already satisfied: typing-extensions>=4.12.2 in /usr/local/lib/python3.12/dist-packages (from pydantic>=2.0->hands-on-ai) (4.15.0)\n",
            "Requirement already satisfied: typing-inspection>=0.4.0 in /usr/local/lib/python3.12/dist-packages (from pydantic>=2.0->hands-on-ai) (0.4.2)\n",
            "Requirement already satisfied: charset_normalizer<4,>=2 in /usr/local/lib/python3.12/dist-packages (from requests->hands-on-ai) (3.4.4)\n",
            "Requirement already satisfied: idna<4,>=2.5 in /usr/local/lib/python3.12/dist-packages (from requests->hands-on-ai) (3.11)\n",
            "Requirement already satisfied: urllib3<3,>=1.21.1 in /usr/local/lib/python3.12/dist-packages (from requests->hands-on-ai) (2.5.0)\n",
            "Requirement already satisfied: certifi>=2017.4.17 in /usr/local/lib/python3.12/dist-packages (from requests->hands-on-ai) (2025.10.5)\n",
            "Requirement already satisfied: click>=8.0.0 in /usr/local/lib/python3.12/dist-packages (from typer->hands-on-ai) (8.3.0)\n",
            "Requirement already satisfied: shellingham>=1.3.0 in /usr/local/lib/python3.12/dist-packages (from typer->hands-on-ai) (1.5.4)\n",
            "Requirement already satisfied: lxml>=3.1.0 in /usr/local/lib/python3.12/dist-packages (from python-docx->hands-on-ai) (5.4.0)\n",
            "Requirement already satisfied: fastcore>=1.8.1 in /usr/local/lib/python3.12/dist-packages (from python-fasthtml->hands-on-ai) (1.8.12)\n",
            "Requirement already satisfied: python-dateutil in /usr/local/lib/python3.12/dist-packages (from python-fasthtml->hands-on-ai) (2.9.0.post0)\n",
            "Requirement already satisfied: starlette>0.33 in /usr/local/lib/python3.12/dist-packages (from python-fasthtml->hands-on-ai) (0.48.0)\n",
            "Requirement already satisfied: oauthlib in /usr/local/lib/python3.12/dist-packages (from python-fasthtml->hands-on-ai) (3.3.1)\n",
            "Requirement already satisfied: itsdangerous in /usr/local/lib/python3.12/dist-packages (from python-fasthtml->hands-on-ai) (2.2.0)\n",
            "Requirement already satisfied: uvicorn>=0.30 in /usr/local/lib/python3.12/dist-packages (from uvicorn[standard]>=0.30->python-fasthtml->hands-on-ai) (0.37.0)\n",
            "Requirement already satisfied: httpx in /usr/local/lib/python3.12/dist-packages (from python-fasthtml->hands-on-ai) (0.28.1)\n",
            "Requirement already satisfied: fastlite>=0.1.1 in /usr/local/lib/python3.12/dist-packages (from python-fasthtml->hands-on-ai) (0.2.1)\n",
            "Requirement already satisfied: python-multipart in /usr/local/lib/python3.12/dist-packages (from python-fasthtml->hands-on-ai) (0.0.20)\n",
            "Requirement already satisfied: beautifulsoup4 in /usr/local/lib/python3.12/dist-packages (from python-fasthtml->hands-on-ai) (4.13.5)\n",
            "Requirement already satisfied: scipy>=1.6.0 in /usr/local/lib/python3.12/dist-packages (from scikit-learn->hands-on-ai) (1.16.2)\n",
            "Requirement already satisfied: joblib>=1.2.0 in /usr/local/lib/python3.12/dist-packages (from scikit-learn->hands-on-ai) (1.5.2)\n",
            "Requirement already satisfied: threadpoolctl>=3.1.0 in /usr/local/lib/python3.12/dist-packages (from scikit-learn->hands-on-ai) (3.6.0)\n",
            "Requirement already satisfied: aiohappyeyeballs>=2.5.0 in /usr/local/lib/python3.12/dist-packages (from aiohttp<4.0.0,>=3.9.1->instructor>=1.11.0->hands-on-ai) (2.6.1)\n",
            "Requirement already satisfied: aiosignal>=1.4.0 in /usr/local/lib/python3.12/dist-packages (from aiohttp<4.0.0,>=3.9.1->instructor>=1.11.0->hands-on-ai) (1.4.0)\n",
            "Requirement already satisfied: attrs>=17.3.0 in /usr/local/lib/python3.12/dist-packages (from aiohttp<4.0.0,>=3.9.1->instructor>=1.11.0->hands-on-ai) (25.4.0)\n",
            "Requirement already satisfied: frozenlist>=1.1.1 in /usr/local/lib/python3.12/dist-packages (from aiohttp<4.0.0,>=3.9.1->instructor>=1.11.0->hands-on-ai) (1.8.0)\n",
            "Requirement already satisfied: multidict<7.0,>=4.5 in /usr/local/lib/python3.12/dist-packages (from aiohttp<4.0.0,>=3.9.1->instructor>=1.11.0->hands-on-ai) (6.7.0)\n",
            "Requirement already satisfied: propcache>=0.2.0 in /usr/local/lib/python3.12/dist-packages (from aiohttp<4.0.0,>=3.9.1->instructor>=1.11.0->hands-on-ai) (0.4.1)\n",
            "Requirement already satisfied: yarl<2.0,>=1.17.0 in /usr/local/lib/python3.12/dist-packages (from aiohttp<4.0.0,>=3.9.1->instructor>=1.11.0->hands-on-ai) (1.22.0)\n",
            "Requirement already satisfied: packaging in /usr/local/lib/python3.12/dist-packages (from fastcore>=1.8.1->python-fasthtml->hands-on-ai) (25.0)\n",
            "Requirement already satisfied: apswutils>=0.1.0 in /usr/local/lib/python3.12/dist-packages (from fastlite>=0.1.1->python-fasthtml->hands-on-ai) (0.1.0)\n",
            "Requirement already satisfied: MarkupSafe>=2.0 in /usr/local/lib/python3.12/dist-packages (from jinja2<4.0.0,>=3.1.4->instructor>=1.11.0->hands-on-ai) (3.0.3)\n",
            "Requirement already satisfied: anyio<5,>=3.5.0 in /usr/local/lib/python3.12/dist-packages (from openai<2.0.0,>=1.70.0->instructor>=1.11.0->hands-on-ai) (4.11.0)\n",
            "Requirement already satisfied: distro<2,>=1.7.0 in /usr/local/lib/python3.12/dist-packages (from openai<2.0.0,>=1.70.0->instructor>=1.11.0->hands-on-ai) (1.9.0)\n",
            "Requirement already satisfied: sniffio in /usr/local/lib/python3.12/dist-packages (from openai<2.0.0,>=1.70.0->instructor>=1.11.0->hands-on-ai) (1.3.1)\n",
            "Requirement already satisfied: tqdm>4 in /usr/local/lib/python3.12/dist-packages (from openai<2.0.0,>=1.70.0->instructor>=1.11.0->hands-on-ai) (4.67.1)\n",
            "Requirement already satisfied: httpcore==1.* in /usr/local/lib/python3.12/dist-packages (from httpx->python-fasthtml->hands-on-ai) (1.0.9)\n",
            "Requirement already satisfied: h11>=0.16 in /usr/local/lib/python3.12/dist-packages (from httpcore==1.*->httpx->python-fasthtml->hands-on-ai) (0.16.0)\n",
            "Requirement already satisfied: markdown-it-py>=2.2.0 in /usr/local/lib/python3.12/dist-packages (from rich<15.0.0,>=13.7.0->instructor>=1.11.0->hands-on-ai) (4.0.0)\n",
            "Requirement already satisfied: pygments<3.0.0,>=2.13.0 in /usr/local/lib/python3.12/dist-packages (from rich<15.0.0,>=13.7.0->instructor>=1.11.0->hands-on-ai) (2.19.2)\n",
            "Requirement already satisfied: httptools>=0.6.3 in /usr/local/lib/python3.12/dist-packages (from uvicorn[standard]>=0.30->python-fasthtml->hands-on-ai) (0.7.1)\n",
            "Requirement already satisfied: python-dotenv>=0.13 in /usr/local/lib/python3.12/dist-packages (from uvicorn[standard]>=0.30->python-fasthtml->hands-on-ai) (1.1.1)\n",
            "Requirement already satisfied: pyyaml>=5.1 in /usr/local/lib/python3.12/dist-packages (from uvicorn[standard]>=0.30->python-fasthtml->hands-on-ai) (6.0.3)\n",
            "Requirement already satisfied: uvloop>=0.15.1 in /usr/local/lib/python3.12/dist-packages (from uvicorn[standard]>=0.30->python-fasthtml->hands-on-ai) (0.22.1)\n",
            "Requirement already satisfied: watchfiles>=0.13 in /usr/local/lib/python3.12/dist-packages (from uvicorn[standard]>=0.30->python-fasthtml->hands-on-ai) (1.1.1)\n",
            "Requirement already satisfied: websockets>=10.4 in /usr/local/lib/python3.12/dist-packages (from uvicorn[standard]>=0.30->python-fasthtml->hands-on-ai) (15.0.1)\n",
            "Requirement already satisfied: soupsieve>1.2 in /usr/local/lib/python3.12/dist-packages (from beautifulsoup4->python-fasthtml->hands-on-ai) (2.8)\n",
            "Requirement already satisfied: six>=1.5 in /usr/local/lib/python3.12/dist-packages (from python-dateutil->python-fasthtml->hands-on-ai) (1.17.0)\n",
            "Requirement already satisfied: apsw in /usr/local/lib/python3.12/dist-packages (from apswutils>=0.1.0->fastlite>=0.1.1->python-fasthtml->hands-on-ai) (3.50.4.0)\n",
            "Requirement already satisfied: mdurl~=0.1 in /usr/local/lib/python3.12/dist-packages (from markdown-it-py>=2.2.0->rich<15.0.0,>=13.7.0->instructor>=1.11.0->hands-on-ai) (0.1.2)\n"
          ]
        }
      ],
      "source": [
        "# 🧪 Optional packages — uncomment if needed in Colab or JupyterHub\n",
        "!pip install fetch-my-weather\n",
        "!pip install hands-on-ai\n"
      ]
    },
    {
      "cell_type": "code",
      "source": [
        "import os\n",
        "\n",
        "os.environ['HANDS_ON_AI_SERVER'] = 'http://ollama.serveur.au'\n",
        "os.environ['HANDS_ON_AI_MODEL'] = 'granite3.2'\n",
        "os.environ['HANDS_ON_AI_API_KEY'] = input('Enter your API key: ')"
      ],
      "metadata": {
        "id": "B2JKlJfrGgIb",
        "outputId": "dea9947e-0d3d-472a-c0b4-679bc0282264",
        "colab": {
          "base_uri": "https://localhost:8080/"
        }
      },
      "id": "B2JKlJfrGgIb",
      "execution_count": null,
      "outputs": [
        {
          "name": "stdout",
          "output_type": "stream",
          "text": [
            "Enter your API key: 395138d1eb0d4a39b6ce9d8a7a7c2f8c.sGzR6Fs8F-H4RGjUzBbcBn9p\n"
          ]
        }
      ]
    },
    {
      "cell_type": "markdown",
      "id": "59ae7543",
      "metadata": {
        "id": "59ae7543"
      },
      "source": [
        "## 📦 Setup and Configuration\n",
        "Import required packages and setup environment."
      ]
    },
    {
      "cell_type": "code",
      "execution_count": null,
      "id": "f1dd051e",
      "metadata": {
        "id": "f1dd051e",
        "outputId": "4ceac786-61f4-49ac-9eee-5411d4455fa0",
        "colab": {
          "base_uri": "https://localhost:8080/"
        }
      },
      "outputs": [
        {
          "output_type": "stream",
          "name": "stdout",
          "text": [
            "Requirement already satisfied: pyinputplus in /usr/local/lib/python3.12/dist-packages (0.2.12)\n",
            "Requirement already satisfied: pysimplevalidate>=0.2.7 in /usr/local/lib/python3.12/dist-packages (from pyinputplus) (0.2.12)\n",
            "Requirement already satisfied: stdiomask>=0.0.3 in /usr/local/lib/python3.12/dist-packages (from pyinputplus) (0.0.6)\n"
          ]
        }
      ],
      "source": [
        "!pip install pyinputplus\n",
        "import requests\n",
        "import matplotlib.pyplot as plt\n",
        "import pyinputplus as pyip\n",
        "# ✅ Import after installing (if needed)\n",
        "from fetch_my_weather import get_weather\n",
        "from hands_on_ai.chat import get_response\n",
        "\n",
        "# Add any other setup code here"
      ]
    },
    {
      "cell_type": "markdown",
      "id": "f736ade3",
      "metadata": {
        "id": "f736ade3"
      },
      "source": [
        "## 🌤️ Weather Data Functions"
      ]
    },
    {
      "cell_type": "code",
      "execution_count": null,
      "id": "7a2c7cd0",
      "metadata": {
        "id": "7a2c7cd0"
      },
      "outputs": [],
      "source": [
        "import requests\n",
        "\n",
        "def get_weather_data(location, forecast_days=5):\n",
        "    \"\"\"\n",
        "    Retrieve weather data for a specified location using the wttr.in API.\n",
        "\n",
        "    Args:\n",
        "        location (str): City or location name (e.g. \"Perth\")\n",
        "        forecast_days (int): Number of days to forecast (1–5)\n",
        "\n",
        "    Returns:\n",
        "        dict: Weather data including current conditions and forecast\n",
        "    \"\"\"\n",
        "    try:\n",
        "        # Build the API URL. wttr.in returns JSON when format=j1\n",
        "        url = f\"https://wttr.in/{location}?format=j1\"\n",
        "\n",
        "        # Send a GET request to the API\n",
        "        response = requests.get(url)\n",
        "        response.raise_for_status()  # Raises error if response is bad\n",
        "\n",
        "        # Convert the API response to a Python dictionary\n",
        "        weather = response.json()\n",
        "\n",
        "        if not weather:\n",
        "            print(\"⚠️ No data returned. Check location spelling or internet connection.\")\n",
        "            return None\n",
        "\n",
        "        # Only keep requested number of forecast days (1–5)\n",
        "        if \"weather\" in weather:\n",
        "            weather[\"weather\"] = weather[\"weather\"][:forecast_days]\n",
        "\n",
        "        return weather\n",
        "\n",
        "    except requests.exceptions.RequestException as e:\n",
        "        print(\"❌ Network or connection error:\", e)\n",
        "        return None\n",
        "    except Exception as e:\n",
        "        print(\"❌ Error fetching weather data:\", e)\n",
        "        return None\n"
      ]
    },
    {
      "cell_type": "code",
      "source": [
        "print(get_weather_data(\"Perth\"))"
      ],
      "metadata": {
        "id": "8lmhdLZEp-zk",
        "outputId": "e461a0e5-1f73-47c5-e014-bcfa083d5c63",
        "colab": {
          "base_uri": "https://localhost:8080/"
        }
      },
      "id": "8lmhdLZEp-zk",
      "execution_count": 38,
      "outputs": [
        {
          "output_type": "stream",
          "name": "stdout",
          "text": [
            "{'current_condition': [{'FeelsLikeC': '10', 'FeelsLikeF': '49', 'cloudcover': '25', 'humidity': '87', 'localObsDateTime': '2025-10-19 09:29 PM', 'observation_time': '01:29 PM', 'precipInches': '0.0', 'precipMM': '0.0', 'pressure': '1011', 'pressureInches': '30', 'temp_C': '11', 'temp_F': '52', 'uvIndex': '0', 'visibility': '10', 'visibilityMiles': '6', 'weatherCode': '176', 'weatherDesc': [{'value': 'Patchy rain nearby'}], 'weatherIconUrl': [{'value': ''}], 'winddir16Point': 'SW', 'winddirDegree': '230', 'windspeedKmph': '11', 'windspeedMiles': '7'}], 'nearest_area': [{'areaName': [{'value': 'Maylands'}], 'country': [{'value': 'Australia'}], 'latitude': '-31.933', 'longitude': '115.883', 'population': '10447', 'region': [{'value': 'Western Australia'}], 'weatherUrl': [{'value': ''}]}], 'request': [{'query': 'Lat -31.95 and Lon 115.86', 'type': 'LatLon'}], 'weather': [{'astronomy': [{'moon_illumination': '6', 'moon_phase': 'Waning Crescent', 'moonrise': '04:13 AM', 'moonset': '04:35 PM', 'sunrise': '05:33 AM', 'sunset': '06:31 PM'}], 'avgtempC': '16', 'avgtempF': '60', 'date': '2025-10-19', 'hourly': [{'DewPointC': '9', 'DewPointF': '49', 'FeelsLikeC': '16', 'FeelsLikeF': '61', 'HeatIndexC': '16', 'HeatIndexF': '61', 'WindChillC': '16', 'WindChillF': '61', 'WindGustKmph': '16', 'WindGustMiles': '10', 'chanceoffog': '0', 'chanceoffrost': '0', 'chanceofhightemp': '0', 'chanceofovercast': '84', 'chanceofrain': '81', 'chanceofremdry': '0', 'chanceofsnow': '0', 'chanceofsunshine': '0', 'chanceofthunder': '0', 'chanceofwindy': '0', 'cloudcover': '98', 'diffRad': '0.0', 'humidity': '64', 'precipInches': '0.0', 'precipMM': '0.0', 'pressure': '1010', 'pressureInches': '30', 'shortRad': '0.0', 'tempC': '16', 'tempF': '61', 'time': '0', 'uvIndex': '0', 'visibility': '10', 'visibilityMiles': '6', 'weatherCode': '176', 'weatherDesc': [{'value': 'Patchy rain nearby'}], 'weatherIconUrl': [{'value': ''}], 'winddir16Point': 'WSW', 'winddirDegree': '250', 'windspeedKmph': '11', 'windspeedMiles': '7'}, {'DewPointC': '9', 'DewPointF': '48', 'FeelsLikeC': '16', 'FeelsLikeF': '60', 'HeatIndexC': '16', 'HeatIndexF': '60', 'WindChillC': '16', 'WindChillF': '60', 'WindGustKmph': '13', 'WindGustMiles': '8', 'chanceoffog': '0', 'chanceoffrost': '0', 'chanceofhightemp': '0', 'chanceofovercast': '81', 'chanceofrain': '82', 'chanceofremdry': '0', 'chanceofsnow': '0', 'chanceofsunshine': '0', 'chanceofthunder': '0', 'chanceofwindy': '0', 'cloudcover': '79', 'diffRad': '0.0', 'humidity': '63', 'precipInches': '0.0', 'precipMM': '0.0', 'pressure': '1009', 'pressureInches': '30', 'shortRad': '0.0', 'tempC': '16', 'tempF': '60', 'time': '300', 'uvIndex': '0', 'visibility': '10', 'visibilityMiles': '6', 'weatherCode': '176', 'weatherDesc': [{'value': 'Patchy rain nearby'}], 'weatherIconUrl': [{'value': ''}], 'winddir16Point': 'WSW', 'winddirDegree': '258', 'windspeedKmph': '9', 'windspeedMiles': '6'}, {'DewPointC': '7', 'DewPointF': '44', 'FeelsLikeC': '15', 'FeelsLikeF': '60', 'HeatIndexC': '15', 'HeatIndexF': '60', 'WindChillC': '15', 'WindChillF': '60', 'WindGustKmph': '7', 'WindGustMiles': '5', 'chanceoffog': '0', 'chanceoffrost': '0', 'chanceofhightemp': '0', 'chanceofovercast': '94', 'chanceofrain': '0', 'chanceofremdry': '88', 'chanceofsnow': '0', 'chanceofsunshine': '16', 'chanceofthunder': '0', 'chanceofwindy': '0', 'cloudcover': '83', 'diffRad': '0.8', 'humidity': '56', 'precipInches': '0.0', 'precipMM': '0.0', 'pressure': '1009', 'pressureInches': '30', 'shortRad': '1.6', 'tempC': '15', 'tempF': '60', 'time': '600', 'uvIndex': '0', 'visibility': '10', 'visibilityMiles': '6', 'weatherCode': '119', 'weatherDesc': [{'value': 'Cloudy '}], 'weatherIconUrl': [{'value': ''}], 'winddir16Point': 'NNW', 'winddirDegree': '340', 'windspeedKmph': '5', 'windspeedMiles': '3'}, {'DewPointC': '9', 'DewPointF': '48', 'FeelsLikeC': '17', 'FeelsLikeF': '62', 'HeatIndexC': '17', 'HeatIndexF': '62', 'WindChillC': '17', 'WindChillF': '62', 'WindGustKmph': '21', 'WindGustMiles': '13', 'chanceoffog': '0', 'chanceoffrost': '0', 'chanceofhightemp': '0', 'chanceofovercast': '88', 'chanceofrain': '100', 'chanceofremdry': '0', 'chanceofsnow': '0', 'chanceofsunshine': '0', 'chanceofthunder': '0', 'chanceofwindy': '0', 'cloudcover': '55', 'diffRad': '100.2', 'humidity': '61', 'precipInches': '0.0', 'precipMM': '0.2', 'pressure': '1010', 'pressureInches': '30', 'shortRad': '176.5', 'tempC': '17', 'tempF': '62', 'time': '900', 'uvIndex': '4', 'visibility': '10', 'visibilityMiles': '6', 'weatherCode': '353', 'weatherDesc': [{'value': 'Light rain shower'}], 'weatherIconUrl': [{'value': ''}], 'winddir16Point': 'NNW', 'winddirDegree': '336', 'windspeedKmph': '16', 'windspeedMiles': '10'}, {'DewPointC': '10', 'DewPointF': '50', 'FeelsLikeC': '18', 'FeelsLikeF': '65', 'HeatIndexC': '18', 'HeatIndexF': '65', 'WindChillC': '18', 'WindChillF': '65', 'WindGustKmph': '34', 'WindGustMiles': '21', 'chanceoffog': '0', 'chanceoffrost': '0', 'chanceofhightemp': '0', 'chanceofovercast': '84', 'chanceofrain': '100', 'chanceofremdry': '0', 'chanceofsnow': '0', 'chanceofsunshine': '0', 'chanceofthunder': '0', 'chanceofwindy': '0', 'cloudcover': '52', 'diffRad': '231.4', 'humidity': '57', 'precipInches': '0.0', 'precipMM': '0.3', 'pressure': '1008', 'pressureInches': '30', 'shortRad': '561.4', 'tempC': '18', 'tempF': '65', 'time': '1200', 'uvIndex': '4', 'visibility': '10', 'visibilityMiles': '6', 'weatherCode': '353', 'weatherDesc': [{'value': 'Light rain shower'}], 'weatherIconUrl': [{'value': ''}], 'winddir16Point': 'W', 'winddirDegree': '279', 'windspeedKmph': '25', 'windspeedMiles': '15'}, {'DewPointC': '12', 'DewPointF': '53', 'FeelsLikeC': '16', 'FeelsLikeF': '61', 'HeatIndexC': '16', 'HeatIndexF': '61', 'WindChillC': '16', 'WindChillF': '61', 'WindGustKmph': '34', 'WindGustMiles': '21', 'chanceoffog': '0', 'chanceoffrost': '0', 'chanceofhightemp': '0', 'chanceofovercast': '93', 'chanceofrain': '100', 'chanceofremdry': '0', 'chanceofsnow': '0', 'chanceofsunshine': '0', 'chanceofthunder': '0', 'chanceofwindy': '0', 'cloudcover': '100', 'diffRad': '260.4', 'humidity': '75', 'precipInches': '0.0', 'precipMM': '0.7', 'pressure': '1009', 'pressureInches': '30', 'shortRad': '555.0', 'tempC': '16', 'tempF': '61', 'time': '1500', 'uvIndex': '5', 'visibility': '10', 'visibilityMiles': '6', 'weatherCode': '353', 'weatherDesc': [{'value': 'Light rain shower'}], 'weatherIconUrl': [{'value': ''}], 'winddir16Point': 'WSW', 'winddirDegree': '244', 'windspeedKmph': '27', 'windspeedMiles': '17'}, {'DewPointC': '10', 'DewPointF': '50', 'FeelsLikeC': '14', 'FeelsLikeF': '57', 'HeatIndexC': '14', 'HeatIndexF': '58', 'WindChillC': '14', 'WindChillF': '57', 'WindGustKmph': '15', 'WindGustMiles': '10', 'chanceoffog': '0', 'chanceoffrost': '0', 'chanceofhightemp': '0', 'chanceofovercast': '83', 'chanceofrain': '100', 'chanceofremdry': '0', 'chanceofsnow': '0', 'chanceofsunshine': '0', 'chanceofthunder': '0', 'chanceofwindy': '0', 'cloudcover': '81', 'diffRad': '97.7', 'humidity': '76', 'precipInches': '0.0', 'precipMM': '0.6', 'pressure': '1010', 'pressureInches': '30', 'shortRad': '193.5', 'tempC': '14', 'tempF': '58', 'time': '1800', 'uvIndex': '0', 'visibility': '10', 'visibilityMiles': '6', 'weatherCode': '353', 'weatherDesc': [{'value': 'Light rain shower'}], 'weatherIconUrl': [{'value': ''}], 'winddir16Point': 'WSW', 'winddirDegree': '251', 'windspeedKmph': '11', 'windspeedMiles': '7'}, {'DewPointC': '8', 'DewPointF': '47', 'FeelsLikeC': '13', 'FeelsLikeF': '56', 'HeatIndexC': '14', 'HeatIndexF': '57', 'WindChillC': '13', 'WindChillF': '56', 'WindGustKmph': '20', 'WindGustMiles': '12', 'chanceoffog': '0', 'chanceoffrost': '0', 'chanceofhightemp': '0', 'chanceofovercast': '82', 'chanceofrain': '69', 'chanceofremdry': '0', 'chanceofsnow': '0', 'chanceofsunshine': '0', 'chanceofthunder': '0', 'chanceofwindy': '0', 'cloudcover': '25', 'diffRad': '0.0', 'humidity': '87', 'precipInches': '0.0', 'precipMM': '0.0', 'pressure': '1011', 'pressureInches': '30', 'shortRad': '0.0', 'tempC': '11', 'tempF': '52', 'time': '2100', 'uvIndex': '0', 'visibility': '10', 'visibilityMiles': '6', 'weatherCode': '176', 'weatherDesc': [{'value': 'Patchy rain nearby'}], 'weatherIconUrl': [{'value': ''}], 'winddir16Point': 'SW', 'winddirDegree': '230', 'windspeedKmph': '11', 'windspeedMiles': '7'}], 'maxtempC': '19', 'maxtempF': '66', 'mintempC': '14', 'mintempF': '57', 'sunHour': '10.8', 'totalSnow_cm': '0.0', 'uvIndex': '2'}, {'astronomy': [{'moon_illumination': '2', 'moon_phase': 'Waning Crescent', 'moonrise': '04:38 AM', 'moonset': '05:31 PM', 'sunrise': '05:32 AM', 'sunset': '06:32 PM'}], 'avgtempC': '14', 'avgtempF': '58', 'date': '2025-10-20', 'hourly': [{'DewPointC': '7', 'DewPointF': '45', 'FeelsLikeC': '14', 'FeelsLikeF': '58', 'HeatIndexC': '14', 'HeatIndexF': '57', 'WindChillC': '14', 'WindChillF': '58', 'WindGustKmph': '7', 'WindGustMiles': '4', 'chanceoffog': '0', 'chanceoffrost': '0', 'chanceofhightemp': '0', 'chanceofovercast': '34', 'chanceofrain': '0', 'chanceofremdry': '80', 'chanceofsnow': '0', 'chanceofsunshine': '87', 'chanceofthunder': '0', 'chanceofwindy': '0', 'cloudcover': '44', 'diffRad': '0.0', 'humidity': '65', 'precipInches': '0.0', 'precipMM': '0.0', 'pressure': '1011', 'pressureInches': '30', 'shortRad': '0.0', 'tempC': '14', 'tempF': '57', 'time': '0', 'uvIndex': '0', 'visibility': '10', 'visibilityMiles': '6', 'weatherCode': '116', 'weatherDesc': [{'value': 'Partly Cloudy '}], 'weatherIconUrl': [{'value': ''}], 'winddir16Point': 'W', 'winddirDegree': '281', 'windspeedKmph': '4', 'windspeedMiles': '2'}, {'DewPointC': '8', 'DewPointF': '47', 'FeelsLikeC': '13', 'FeelsLikeF': '56', 'HeatIndexC': '13', 'HeatIndexF': '56', 'WindChillC': '13', 'WindChillF': '56', 'WindGustKmph': '10', 'WindGustMiles': '6', 'chanceoffog': '0', 'chanceoffrost': '0', 'chanceofhightemp': '0', 'chanceofovercast': '90', 'chanceofrain': '100', 'chanceofremdry': '0', 'chanceofsnow': '0', 'chanceofsunshine': '0', 'chanceofthunder': '0', 'chanceofwindy': '0', 'cloudcover': '58', 'diffRad': '0.0', 'humidity': '71', 'precipInches': '0.0', 'precipMM': '0.4', 'pressure': '1010', 'pressureInches': '30', 'shortRad': '0.0', 'tempC': '13', 'tempF': '56', 'time': '300', 'uvIndex': '0', 'visibility': '10', 'visibilityMiles': '6', 'weatherCode': '353', 'weatherDesc': [{'value': 'Light rain shower'}], 'weatherIconUrl': [{'value': ''}], 'winddir16Point': 'WNW', 'winddirDegree': '294', 'windspeedKmph': '6', 'windspeedMiles': '4'}, {'DewPointC': '8', 'DewPointF': '46', 'FeelsLikeC': '12', 'FeelsLikeF': '54', 'HeatIndexC': '13', 'HeatIndexF': '55', 'WindChillC': '12', 'WindChillF': '54', 'WindGustKmph': '12', 'WindGustMiles': '8', 'chanceoffog': '0', 'chanceoffrost': '0', 'chanceofhightemp': '0', 'chanceofovercast': '92', 'chanceofrain': '100', 'chanceofremdry': '0', 'chanceofsnow': '0', 'chanceofsunshine': '0', 'chanceofthunder': '0', 'chanceofwindy': '0', 'cloudcover': '75', 'diffRad': '1.0', 'humidity': '73', 'precipInches': '0.0', 'precipMM': '0.2', 'pressure': '1010', 'pressureInches': '30', 'shortRad': '2.0', 'tempC': '13', 'tempF': '55', 'time': '600', 'uvIndex': '0', 'visibility': '10', 'visibilityMiles': '6', 'weatherCode': '353', 'weatherDesc': [{'value': 'Light rain shower'}], 'weatherIconUrl': [{'value': ''}], 'winddir16Point': 'NE', 'winddirDegree': '38', 'windspeedKmph': '7', 'windspeedMiles': '4'}, {'DewPointC': '9', 'DewPointF': '48', 'FeelsLikeC': '14', 'FeelsLikeF': '57', 'HeatIndexC': '15', 'HeatIndexF': '58', 'WindChillC': '14', 'WindChillF': '57', 'WindGustKmph': '17', 'WindGustMiles': '11', 'chanceoffog': '0', 'chanceoffrost': '0', 'chanceofhightemp': '0', 'chanceofovercast': '87', 'chanceofrain': '100', 'chanceofremdry': '0', 'chanceofsnow': '0', 'chanceofsunshine': '0', 'chanceofthunder': '0', 'chanceofwindy': '0', 'cloudcover': '72', 'diffRad': '135.9', 'humidity': '69', 'precipInches': '0.0', 'precipMM': '0.6', 'pressure': '1010', 'pressureInches': '30', 'shortRad': '250.7', 'tempC': '15', 'tempF': '58', 'time': '900', 'uvIndex': '3', 'visibility': '9', 'visibilityMiles': '5', 'weatherCode': '176', 'weatherDesc': [{'value': 'Patchy rain nearby'}], 'weatherIconUrl': [{'value': ''}], 'winddir16Point': 'N', 'winddirDegree': '353', 'windspeedKmph': '13', 'windspeedMiles': '8'}, {'DewPointC': '8', 'DewPointF': '46', 'FeelsLikeC': '17', 'FeelsLikeF': '63', 'HeatIndexC': '17', 'HeatIndexF': '63', 'WindChillC': '17', 'WindChillF': '63', 'WindGustKmph': '32', 'WindGustMiles': '20', 'chanceoffog': '0', 'chanceoffrost': '0', 'chanceofhightemp': '0', 'chanceofovercast': '92', 'chanceofrain': '100', 'chanceofremdry': '0', 'chanceofsnow': '0', 'chanceofsunshine': '0', 'chanceofthunder': '75', 'chanceofwindy': '0', 'cloudcover': '76', 'diffRad': '256.0', 'humidity': '54', 'precipInches': '0.0', 'precipMM': '0.5', 'pressure': '1009', 'pressureInches': '30', 'shortRad': '668.8', 'tempC': '17', 'tempF': '63', 'time': '1200', 'uvIndex': '9', 'visibility': '10', 'visibilityMiles': '6', 'weatherCode': '353', 'weatherDesc': [{'value': 'Light rain shower'}], 'weatherIconUrl': [{'value': ''}], 'winddir16Point': 'NW', 'winddirDegree': '326', 'windspeedKmph': '22', 'windspeedMiles': '14'}, {'DewPointC': '10', 'DewPointF': '50', 'FeelsLikeC': '15', 'FeelsLikeF': '59', 'HeatIndexC': '15', 'HeatIndexF': '59', 'WindChillC': '15', 'WindChillF': '59', 'WindGustKmph': '12', 'WindGustMiles': '7', 'chanceoffog': '0', 'chanceoffrost': '0', 'chanceofhightemp': '0', 'chanceofovercast': '92', 'chanceofrain': '100', 'chanceofremdry': '0', 'chanceofsnow': '0', 'chanceofsunshine': '0', 'chanceofthunder': '0', 'chanceofwindy': '0', 'cloudcover': '66', 'diffRad': '249.9', 'humidity': '71', 'precipInches': '0.0', 'precipMM': '1.2', 'pressure': '1008', 'pressureInches': '30', 'shortRad': '584.4', 'tempC': '15', 'tempF': '59', 'time': '1500', 'uvIndex': '4', 'visibility': '10', 'visibilityMiles': '6', 'weatherCode': '353', 'weatherDesc': [{'value': 'Light rain shower'}], 'weatherIconUrl': [{'value': ''}], 'winddir16Point': 'WSW', 'winddirDegree': '243', 'windspeedKmph': '9', 'windspeedMiles': '5'}, {'DewPointC': '10', 'DewPointF': '49', 'FeelsLikeC': '12', 'FeelsLikeF': '54', 'HeatIndexC': '14', 'HeatIndexF': '57', 'WindChillC': '12', 'WindChillF': '54', 'WindGustKmph': '30', 'WindGustMiles': '19', 'chanceoffog': '0', 'chanceoffrost': '0', 'chanceofhightemp': '0', 'chanceofovercast': '83', 'chanceofrain': '100', 'chanceofremdry': '0', 'chanceofsnow': '0', 'chanceofsunshine': '0', 'chanceofthunder': '0', 'chanceofwindy': '0', 'cloudcover': '83', 'diffRad': '154.5', 'humidity': '76', 'precipInches': '0.0', 'precipMM': '0.5', 'pressure': '1010', 'pressureInches': '30', 'shortRad': '376.2', 'tempC': '14', 'tempF': '57', 'time': '1800', 'uvIndex': '0', 'visibility': '9', 'visibilityMiles': '5', 'weatherCode': '176', 'weatherDesc': [{'value': 'Patchy rain nearby'}], 'weatherIconUrl': [{'value': ''}], 'winddir16Point': 'SSW', 'winddirDegree': '202', 'windspeedKmph': '18', 'windspeedMiles': '11'}, {'DewPointC': '9', 'DewPointF': '49', 'FeelsLikeC': '11', 'FeelsLikeF': '52', 'HeatIndexC': '13', 'HeatIndexF': '55', 'WindChillC': '11', 'WindChillF': '52', 'WindGustKmph': '30', 'WindGustMiles': '19', 'chanceoffog': '0', 'chanceoffrost': '0', 'chanceofhightemp': '0', 'chanceofovercast': '81', 'chanceofrain': '100', 'chanceofremdry': '0', 'chanceofsnow': '0', 'chanceofsunshine': '0', 'chanceofthunder': '0', 'chanceofwindy': '0', 'cloudcover': '64', 'diffRad': '0.0', 'humidity': '79', 'precipInches': '0.0', 'precipMM': '0.2', 'pressure': '1012', 'pressureInches': '30', 'shortRad': '0.0', 'tempC': '13', 'tempF': '55', 'time': '2100', 'uvIndex': '0', 'visibility': '10', 'visibilityMiles': '6', 'weatherCode': '353', 'weatherDesc': [{'value': 'Light rain shower'}], 'weatherIconUrl': [{'value': ''}], 'winddir16Point': 'SSW', 'winddirDegree': '199', 'windspeedKmph': '19', 'windspeedMiles': '12'}], 'maxtempC': '17', 'maxtempF': '63', 'mintempC': '13', 'mintempF': '55', 'sunHour': '9.8', 'totalSnow_cm': '0.0', 'uvIndex': '2'}, {'astronomy': [{'moon_illumination': '0', 'moon_phase': 'New Moon', 'moonrise': '05:04 AM', 'moonset': '06:26 PM', 'sunrise': '05:30 AM', 'sunset': '06:32 PM'}], 'avgtempC': '15', 'avgtempF': '59', 'date': '2025-10-21', 'hourly': [{'DewPointC': '10', 'DewPointF': '50', 'FeelsLikeC': '12', 'FeelsLikeF': '54', 'HeatIndexC': '14', 'HeatIndexF': '57', 'WindChillC': '12', 'WindChillF': '54', 'WindGustKmph': '30', 'WindGustMiles': '19', 'chanceoffog': '0', 'chanceoffrost': '0', 'chanceofhightemp': '0', 'chanceofovercast': '86', 'chanceofrain': '100', 'chanceofremdry': '0', 'chanceofsnow': '0', 'chanceofsunshine': '0', 'chanceofthunder': '0', 'chanceofwindy': '0', 'cloudcover': '88', 'diffRad': '0.0', 'humidity': '78', 'precipInches': '0.0', 'precipMM': '0.4', 'pressure': '1012', 'pressureInches': '30', 'shortRad': '0.0', 'tempC': '14', 'tempF': '57', 'time': '0', 'uvIndex': '0', 'visibility': '10', 'visibilityMiles': '6', 'weatherCode': '353', 'weatherDesc': [{'value': 'Light rain shower'}], 'weatherIconUrl': [{'value': ''}], 'winddir16Point': 'WSW', 'winddirDegree': '237', 'windspeedKmph': '20', 'windspeedMiles': '13'}, {'DewPointC': '9', 'DewPointF': '49', 'FeelsLikeC': '10', 'FeelsLikeF': '50', 'HeatIndexC': '12', 'HeatIndexF': '54', 'WindChillC': '10', 'WindChillF': '50', 'WindGustKmph': '28', 'WindGustMiles': '18', 'chanceoffog': '0', 'chanceoffrost': '0', 'chanceofhightemp': '0', 'chanceofovercast': '0', 'chanceofrain': '0', 'chanceofremdry': '84', 'chanceofsnow': '0', 'chanceofsunshine': '88', 'chanceofthunder': '0', 'chanceofwindy': '0', 'cloudcover': '8', 'diffRad': '0.0', 'humidity': '84', 'precipInches': '0.0', 'precipMM': '0.0', 'pressure': '1012', 'pressureInches': '30', 'shortRad': '0.0', 'tempC': '12', 'tempF': '54', 'time': '300', 'uvIndex': '0', 'visibility': '10', 'visibilityMiles': '6', 'weatherCode': '113', 'weatherDesc': [{'value': 'Clear '}], 'weatherIconUrl': [{'value': ''}], 'winddir16Point': 'S', 'winddirDegree': '180', 'windspeedKmph': '18', 'windspeedMiles': '11'}, {'DewPointC': '8', 'DewPointF': '47', 'FeelsLikeC': '9', 'FeelsLikeF': '49', 'HeatIndexC': '11', 'HeatIndexF': '52', 'WindChillC': '9', 'WindChillF': '49', 'WindGustKmph': '20', 'WindGustMiles': '13', 'chanceoffog': '0', 'chanceoffrost': '0', 'chanceofhightemp': '0', 'chanceofovercast': '92', 'chanceofrain': '84', 'chanceofremdry': '0', 'chanceofsnow': '0', 'chanceofsunshine': '0', 'chanceofthunder': '0', 'chanceofwindy': '0', 'cloudcover': '77', 'diffRad': '1.1', 'humidity': '85', 'precipInches': '0.0', 'precipMM': '0.0', 'pressure': '1015', 'pressureInches': '30', 'shortRad': '2.3', 'tempC': '11', 'tempF': '52', 'time': '600', 'uvIndex': '0', 'visibility': '10', 'visibilityMiles': '6', 'weatherCode': '176', 'weatherDesc': [{'value': 'Patchy rain nearby'}], 'weatherIconUrl': [{'value': ''}], 'winddir16Point': 'S', 'winddirDegree': '171', 'windspeedKmph': '13', 'windspeedMiles': '8'}, {'DewPointC': '8', 'DewPointF': '47', 'FeelsLikeC': '15', 'FeelsLikeF': '59', 'HeatIndexC': '15', 'HeatIndexF': '59', 'WindChillC': '15', 'WindChillF': '59', 'WindGustKmph': '21', 'WindGustMiles': '13', 'chanceoffog': '0', 'chanceoffrost': '0', 'chanceofhightemp': '0', 'chanceofovercast': '0', 'chanceofrain': '0', 'chanceofremdry': '84', 'chanceofsnow': '0', 'chanceofsunshine': '88', 'chanceofthunder': '0', 'chanceofwindy': '0', 'cloudcover': '25', 'diffRad': '97.9', 'humidity': '64', 'precipInches': '0.0', 'precipMM': '0.0', 'pressure': '1016', 'pressureInches': '30', 'shortRad': '602.5', 'tempC': '15', 'tempF': '59', 'time': '900', 'uvIndex': '4', 'visibility': '10', 'visibilityMiles': '6', 'weatherCode': '113', 'weatherDesc': [{'value': 'Sunny'}], 'weatherIconUrl': [{'value': ''}], 'winddir16Point': 'S', 'winddirDegree': '179', 'windspeedKmph': '18', 'windspeedMiles': '11'}, {'DewPointC': '7', 'DewPointF': '45', 'FeelsLikeC': '18', 'FeelsLikeF': '65', 'HeatIndexC': '18', 'HeatIndexF': '65', 'WindChillC': '18', 'WindChillF': '65', 'WindGustKmph': '26', 'WindGustMiles': '16', 'chanceoffog': '0', 'chanceoffrost': '0', 'chanceofhightemp': '0', 'chanceofovercast': '0', 'chanceofrain': '0', 'chanceofremdry': '92', 'chanceofsnow': '0', 'chanceofsunshine': '86', 'chanceofthunder': '0', 'chanceofwindy': '0', 'cloudcover': '0', 'diffRad': '140.1', 'humidity': '49', 'precipInches': '0.0', 'precipMM': '0.0', 'pressure': '1016', 'pressureInches': '30', 'shortRad': '812.1', 'tempC': '18', 'tempF': '65', 'time': '1200', 'uvIndex': '7', 'visibility': '10', 'visibilityMiles': '6', 'weatherCode': '113', 'weatherDesc': [{'value': 'Sunny'}], 'weatherIconUrl': [{'value': ''}], 'winddir16Point': 'SSW', 'winddirDegree': '205', 'windspeedKmph': '23', 'windspeedMiles': '14'}, {'DewPointC': '8', 'DewPointF': '47', 'FeelsLikeC': '18', 'FeelsLikeF': '64', 'HeatIndexC': '18', 'HeatIndexF': '64', 'WindChillC': '18', 'WindChillF': '64', 'WindGustKmph': '28', 'WindGustMiles': '17', 'chanceoffog': '0', 'chanceoffrost': '0', 'chanceofhightemp': '0', 'chanceofovercast': '0', 'chanceofrain': '0', 'chanceofremdry': '93', 'chanceofsnow': '0', 'chanceofsunshine': '92', 'chanceofthunder': '0', 'chanceofwindy': '0', 'cloudcover': '2', 'diffRad': '103.5', 'humidity': '53', 'precipInches': '0.0', 'precipMM': '0.0', 'pressure': '1016', 'pressureInches': '30', 'shortRad': '799.6', 'tempC': '18', 'tempF': '64', 'time': '1500', 'uvIndex': '4', 'visibility': '10', 'visibilityMiles': '6', 'weatherCode': '113', 'weatherDesc': [{'value': 'Sunny'}], 'weatherIconUrl': [{'value': ''}], 'winddir16Point': 'SW', 'winddirDegree': '224', 'windspeedKmph': '24', 'windspeedMiles': '15'}, {'DewPointC': '8', 'DewPointF': '46', 'FeelsLikeC': '16', 'FeelsLikeF': '61', 'HeatIndexC': '16', 'HeatIndexF': '61', 'WindChillC': '16', 'WindChillF': '61', 'WindGustKmph': '28', 'WindGustMiles': '17', 'chanceoffog': '0', 'chanceoffrost': '0', 'chanceofhightemp': '0', 'chanceofovercast': '0', 'chanceofrain': '0', 'chanceofremdry': '91', 'chanceofsnow': '0', 'chanceofsunshine': '89', 'chanceofthunder': '0', 'chanceofwindy': '0', 'cloudcover': '2', 'diffRad': '103.2', 'humidity': '58', 'precipInches': '0.0', 'precipMM': '0.0', 'pressure': '1017', 'pressureInches': '30', 'shortRad': '479.9', 'tempC': '16', 'tempF': '61', 'time': '1800', 'uvIndex': '0', 'visibility': '10', 'visibilityMiles': '6', 'weatherCode': '113', 'weatherDesc': [{'value': 'Sunny'}], 'weatherIconUrl': [{'value': ''}], 'winddir16Point': 'SSW', 'winddirDegree': '205', 'windspeedKmph': '21', 'windspeedMiles': '13'}, {'DewPointC': '9', 'DewPointF': '48', 'FeelsLikeC': '13', 'FeelsLikeF': '55', 'HeatIndexC': '14', 'HeatIndexF': '57', 'WindChillC': '13', 'WindChillF': '55', 'WindGustKmph': '22', 'WindGustMiles': '14', 'chanceoffog': '0', 'chanceoffrost': '0', 'chanceofhightemp': '0', 'chanceofovercast': '0', 'chanceofrain': '0', 'chanceofremdry': '80', 'chanceofsnow': '0', 'chanceofsunshine': '86', 'chanceofthunder': '0', 'chanceofwindy': '0', 'cloudcover': '19', 'diffRad': '0.0', 'humidity': '70', 'precipInches': '0.0', 'precipMM': '0.0', 'pressure': '1018', 'pressureInches': '30', 'shortRad': '0.0', 'tempC': '14', 'tempF': '57', 'time': '2100', 'uvIndex': '0', 'visibility': '10', 'visibilityMiles': '6', 'weatherCode': '113', 'weatherDesc': [{'value': 'Clear '}], 'weatherIconUrl': [{'value': ''}], 'winddir16Point': 'S', 'winddirDegree': '173', 'windspeedKmph': '15', 'windspeedMiles': '9'}], 'maxtempC': '18', 'maxtempF': '65', 'mintempC': '11', 'mintempF': '52', 'sunHour': '12.5', 'totalSnow_cm': '0.0', 'uvIndex': '2'}]}\n"
          ]
        }
      ]
    },
    {
      "cell_type": "markdown",
      "id": "8a744fdc",
      "metadata": {
        "id": "8a744fdc"
      },
      "source": [
        "## 📊 Visualisation Functions"
      ]
    },
    {
      "cell_type": "code",
      "execution_count": 39,
      "id": "9dc3bf85",
      "metadata": {
        "id": "9dc3bf85"
      },
      "outputs": [],
      "source": [
        "import matplotlib.pyplot as plt\n",
        "\n",
        "def create_temperature_visualisation(weather_data, output_type='display'):\n",
        "    \"\"\"\n",
        "    Create a line chart showing the average temperature for each forecast day.\n",
        "\n",
        "    Args:\n",
        "        weather_data (dict): The weather data returned by get_weather_data()\n",
        "        output_type (str): 'display' to show in notebook, 'figure' to return the chart object\n",
        "\n",
        "    Returns:\n",
        "        If output_type == 'figure', returns the matplotlib Figure object.\n",
        "        Otherwise, displays the chart directly in the notebook.\n",
        "    \"\"\"\n",
        "    # Try to get forecast section\n",
        "    days = weather_data.get(\"weather\", [])\n",
        "    if not days:\n",
        "        print(\"⚠️ No forecast data available.\")\n",
        "        return\n",
        "\n",
        "    dates = []\n",
        "    temps = []\n",
        "\n",
        "    for day in days:\n",
        "        date = day.get(\"date\", \"N/A\")\n",
        "        avg_temp = day.get(\"avgtempC\") or day.get(\"avgtemp\", 0)\n",
        "        try:\n",
        "            avg_temp = int(avg_temp)\n",
        "        except Exception:\n",
        "            avg_temp = 0\n",
        "        dates.append(date)\n",
        "        temps.append(avg_temp)\n",
        "\n",
        "    if not any(temps):\n",
        "        print(\"⚠️ Temperature data missing or zero — check your data source.\")\n",
        "        return\n",
        "\n",
        "    fig = plt.figure()\n",
        "    plt.plot(dates, temps, marker='o', color='orange', linewidth=2)\n",
        "    plt.title(\"Average Temperature Over Time (°C)\")\n",
        "    plt.xlabel(\"Date\")\n",
        "    plt.ylabel(\"Temperature (°C)\")\n",
        "    plt.grid(True)\n",
        "\n",
        "    if output_type == 'figure':\n",
        "        return fig\n",
        "    else:\n",
        "        plt.show()\n",
        "\n",
        "\n",
        "\n",
        "def create_precipitation_visualisation(weather_data, output_type='display'):\n",
        "    \"\"\"\n",
        "    Create a bar chart showing the chance of rain for each forecast day.\n",
        "\n",
        "    Args:\n",
        "        weather_data (dict): The weather data returned by get_weather_data()\n",
        "        output_type (str): 'display' to show in notebook, 'figure' to return the chart object\n",
        "\n",
        "    Returns:\n",
        "        If output_type == 'figure', returns the matplotlib Figure object.\n",
        "        Otherwise, displays the chart directly in the notebook.\n",
        "    \"\"\"\n",
        "    days = weather_data.get(\"weather\", [])\n",
        "    if not days:\n",
        "        print(\"⚠️ No forecast data available.\")\n",
        "        return\n",
        "\n",
        "    dates = []\n",
        "    rain_chances = []\n",
        "\n",
        "    for day in days:\n",
        "        date = day.get(\"date\", \"N/A\")\n",
        "\n",
        "        # Safely access hourly data\n",
        "        hourly = day.get(\"hourly\", [])\n",
        "        if not hourly:\n",
        "            rain_chance = 0\n",
        "        else:\n",
        "            # Choose midday record if available\n",
        "            midday = hourly[4] if len(hourly) > 4 else hourly[0]\n",
        "            # Some APIs use 'chanceofrain', others use 'chance_of_rain'\n",
        "            rain_chance = midday.get(\"chanceofrain\") or midday.get(\"chance_of_rain\") or 0\n",
        "            try:\n",
        "                rain_chance = int(rain_chance)\n",
        "            except Exception:\n",
        "                rain_chance = 0\n",
        "\n",
        "        dates.append(date)\n",
        "        rain_chances.append(rain_chance)\n",
        "\n",
        "    if not any(rain_chances):\n",
        "        print(\"⚠️ No precipitation data found — check your data structure or API mode.\")\n",
        "        return\n",
        "\n",
        "    fig = plt.figure()\n",
        "    plt.bar(dates, rain_chances, color='skyblue')\n",
        "    plt.title(\"Chance of Rain (%)\")\n",
        "    plt.xlabel(\"Date\")\n",
        "    plt.ylabel(\"Chance (%)\")\n",
        "    plt.ylim(0, 100)\n",
        "\n",
        "    if output_type == 'figure':\n",
        "        return fig\n",
        "    else:\n",
        "        plt.show()\n"
      ]
    },
    {
      "cell_type": "markdown",
      "id": "9f95d160",
      "metadata": {
        "id": "9f95d160"
      },
      "source": [
        "## 🤖 Natural Language Processing"
      ]
    },
    {
      "cell_type": "code",
      "execution_count": null,
      "id": "bcc5833e",
      "metadata": {
        "id": "bcc5833e"
      },
      "outputs": [],
      "source": [
        "def parse_weather_question(question):\n",
        "    \"\"\n",
        "    Parse a natural language weather question.\n",
        "\n",
        "    Args:\n",
        "        question (str): User's weather-related question (e.g., \"Will it rain tomorrow in Sydney?\")\n",
        "\n",
        "    Returns:\n",
        "        dict: Extracted information including location, time period, and weather attribute.\n",
        "              Example: {\"topic\": \"rain\", \"location\": \"Sydney\", \"time\": \"tomorrow\"}\n",
        "    \"\"\"\n",
        "    # Make everything lowercase for easier comparison\n",
        "    q = (question or \"\").lower()\n",
        "\n",
        "    # Default topic\n",
        "    topic = \"general\"\n",
        "\n",
        "    # Detect topic keywords\n",
        "    if \"rain\" in q or \"umbrella\" in q:\n",
        "        topic = \"rain\"\n",
        "    elif \"temperature\" in q or \"hot\" in q or \"cold\" in q or \"warm\" in q:\n",
        "        topic = \"temperature\"\n",
        "    elif \"wind\" in q:\n",
        "        topic = \"wind\"\n",
        "    elif \"humid\" in q or \"humidity\" in q:\n",
        "        topic = \"humidity\"\n",
        "\n",
        "    # Detect time period\n",
        "    time = \"today\"\n",
        "    if \"tomorrow\" in q:\n",
        "        time = \"tomorrow\"\n",
        "    elif \"weekend\" in q:\n",
        "        time = \"weekend\"\n",
        "\n",
        "    # Try to find location after the word \"in\"\n",
        "    location = None\n",
        "    if \" in \" in q:\n",
        "        location = q.split(\" in \", 1)[1].strip(\" ?.,!\")\n",
        "\n",
        "    # Return all extracted info\n",
        "    return {\n",
        "        \"topic\": topic,\n",
        "        \"location\": location,\n",
        "        \"time\": time\n",
        "    }\n"
      ]
    },
    {
      "cell_type": "markdown",
      "id": "0d85225e",
      "metadata": {
        "id": "0d85225e"
      },
      "source": [
        "## 🧭 User Interface"
      ]
    },
    {
      "cell_type": "code",
      "execution_count": 41,
      "id": "fa6cb0f6",
      "metadata": {
        "id": "fa6cb0f6",
        "colab": {
          "base_uri": "https://localhost:8080/",
          "height": 1000
        },
        "outputId": "f436d496-be0a-4458-c3ae-afa12f2953db"
      },
      "outputs": [
        {
          "output_type": "stream",
          "name": "stdout",
          "text": [
            "🌦️ Welcome to WeatherWise!\n",
            "\n",
            "Main Menu - Choose an option:\n",
            "1. Run once\n",
            "2. Quit\n",
            "1\n",
            "🌍 Enter a city name (e.g., Perth, Sydney): perth\n",
            "\n",
            "📋 Current Weather Summary:\n",
            "🌤️ Right now it’s 11°C with patchy rain nearby, humidity 87%, and wind speed around 11 km/h.\n",
            "\n",
            "📈 Generating charts...\n"
          ]
        },
        {
          "output_type": "display_data",
          "data": {
            "text/plain": [
              "<Figure size 640x480 with 1 Axes>"
            ],
            "image/png": "[encoded data removed]"
          },
          "metadata": {}
        },
        {
          "output_type": "display_data",
          "data": {
            "text/plain": [
              "<Figure size 640x480 with 1 Axes>"
            ],
            "image/png": "[encoded data removed]"
          },
          "metadata": {}
        },
        {
          "output_type": "stream",
          "name": "stdout",
          "text": [
            "\n",
            "💬 Ask a weather question (e.g., Will it rain tomorrow in Perth?): Will it rain tomorrow in perth?\n",
            "\n",
            "🤖 Answer:\n",
            "☔ The chance of rain tomorrow is around 100%. Current condition: patchy rain nearby.\n",
            "\n",
            "Main Menu - Choose an option:\n",
            "1. Run once\n",
            "2. Quit\n",
            "2\n",
            "👋 Goodbye! Stay safe and check the weather again soon.\n"
          ]
        }
      ],
      "source": [
        "import pyinputplus as pyip\n",
        "\n",
        "def run_once():\n",
        "    \"\"\"\n",
        "    Run one full weather check session:\n",
        "    - Ask for a city\n",
        "    - Display current summary\n",
        "    - Show temperature and rain charts\n",
        "    - Answer one natural language question\n",
        "    \"\"\"\n",
        "    # Ask for a city name\n",
        "    city = pyip.inputStr(\"🌍 Enter a city name (e.g., Perth, Sydney): \")\n",
        "\n",
        "    # Fetch weather data\n",
        "    weather_data = get_weather_data(city)\n",
        "    if not weather_data:\n",
        "        print(\"⚠️ Could not fetch data. Please try again.\")\n",
        "        return\n",
        "\n",
        "    # Display current summary\n",
        "    print(\"\\n📋 Current Weather Summary:\")\n",
        "    print(generate_weather_response({\"topic\": \"general\"}, weather_data))\n",
        "\n",
        "    # Show charts\n",
        "    print(\"\\n📈 Generating charts...\")\n",
        "    create_temperature_visualisation(weather_data)\n",
        "    create_precipitation_visualisation(weather_data)\n",
        "\n",
        "    # Let user ask a question\n",
        "    question = pyip.inputStr(\"\\n💬 Ask a weather question (e.g., Will it rain tomorrow in Perth?): \")\n",
        "    parsed = parse_weather_question(question)\n",
        "\n",
        "    # Use the location from the question if provided\n",
        "    if parsed.get(\"location\") and parsed[\"location\"].lower() != city.lower():\n",
        "        weather_data = get_weather_data(parsed[\"location\"])\n",
        "\n",
        "    # Generate and show the response\n",
        "    print(\"\\n🤖 Answer:\")\n",
        "    print(generate_weather_response(parsed, weather_data))\n",
        "\n",
        "\n",
        "def main_menu():\n",
        "    \"\"\"\n",
        "    A simple text-based main menu.\n",
        "    Lets the user choose to run the app or quit.\n",
        "    \"\"\"\n",
        "    print(\"🌦️ Welcome to WeatherWise!\")\n",
        "    while True:\n",
        "        choice = pyip.inputMenu(\n",
        "            [\"Run once\", \"Quit\"],\n",
        "            numbered=True,\n",
        "            prompt=\"\\nMain Menu - Choose an option:\\n\"\n",
        "        )\n",
        "\n",
        "        if choice == \"Run once\":\n",
        "            run_once()\n",
        "        else:\n",
        "            print(\"👋 Goodbye! Stay safe and check the weather again soon.\")\n",
        "            break\n",
        "\n",
        "\n",
        "# 🚀 Launch the main menu\n",
        "main_menu()\n"
      ]
    },
    {
      "cell_type": "markdown",
      "id": "d643a53c",
      "metadata": {
        "id": "d643a53c"
      },
      "source": [
        "## 🧩 Main Application Logic"
      ]
    },
    {
      "cell_type": "code",
      "execution_count": 40,
      "id": "a9e2e805",
      "metadata": {
        "id": "a9e2e805"
      },
      "outputs": [],
      "source": [
        "def generate_weather_response(parsed_question, weather_data):\n",
        "    \"\"\"\n",
        "    Generate a natural language response to a weather question.\n",
        "\n",
        "    Args:\n",
        "        parsed_question (dict): Parsed question data (from parse_weather_question)\n",
        "        weather_data (dict): Weather data (from get_weather_data)\n",
        "\n",
        "    Returns:\n",
        "        str: Human-readable weather answer\n",
        "    \"\"\"\n",
        "    if not weather_data:\n",
        "        return \"⚠️ Sorry, I couldn’t find any weather information right now.\"\n",
        "\n",
        "    try:\n",
        "        # Extract basic current weather details\n",
        "        current = weather_data.get(\"current_condition\", [{}])[0]\n",
        "        temp_c = current.get(\"temp_C\", \"N/A\")\n",
        "        condition = current.get(\"weatherDesc\", [{\"value\": \"Unknown\"}])[0][\"value\"]\n",
        "        humidity = current.get(\"humidity\", \"N/A\")\n",
        "        wind = current.get(\"windspeedKmph\", \"N/A\")\n",
        "\n",
        "        topic = parsed_question.get(\"topic\", \"general\")\n",
        "        time = parsed_question.get(\"time\", \"today\")\n",
        "\n",
        "        # 🌧️ RAIN\n",
        "        if topic == \"rain\":\n",
        "            today = weather_data.get(\"weather\", [{}])[0]\n",
        "            hourly = today.get(\"hourly\", [])\n",
        "            midday = hourly[4] if len(hourly) > 4 else (hourly[0] if hourly else {})\n",
        "            chance = midday.get(\"chanceofrain\") or midday.get(\"chance_of_rain\") or \"N/A\"\n",
        "            response = (\n",
        "                f\"☔ The chance of rain {time} is around {chance}%. \"\n",
        "                f\"Current condition: {condition.lower()}.\"\n",
        "            )\n",
        "\n",
        "        # 🌡️ TEMPERATURE\n",
        "        elif topic == \"temperature\":\n",
        "            response = (\n",
        "                f\"🌡️ The temperature {time} is about {temp_c}°C \"\n",
        "                f\"with {condition.lower()} conditions.\"\n",
        "            )\n",
        "\n",
        "        # 🌬️ WIND\n",
        "        elif topic == \"wind\":\n",
        "            response = (\n",
        "                f\"🌬️ The wind speed {time} is about {wind} km/h. \"\n",
        "                f\"It’s currently {condition.lower()}.\"\n",
        "            )\n",
        "\n",
        "        # 💧 HUMIDITY\n",
        "        elif topic == \"humidity\":\n",
        "            response = (\n",
        "                f\"💧 The humidity {time} is about {humidity}%. \"\n",
        "                f\"It’s {condition.lower()} outside.\"\n",
        "            )\n",
        "\n",
        "        # 🌤️ GENERAL SUMMARY\n",
        "        else:\n",
        "            response = (\n",
        "                f\"🌤️ Right now it’s {temp_c}°C with {condition.lower()}, \"\n",
        "                f\"humidity {humidity}%, and wind speed around {wind} km/h.\"\n",
        "            )\n",
        "\n",
        "        return response\n",
        "\n",
        "    except Exception as e:\n",
        "        return f\"⚠️ Sorry, I couldn’t generate the weather response. ({e})\"\n"
      ]
    },
    {
      "cell_type": "markdown",
      "id": "fde44479",
      "metadata": {
        "id": "fde44479"
      },
      "source": [
        "## 🧪 Testing and Examples"
      ]
    },
    {
      "cell_type": "code",
      "execution_count": null,
      "id": "4e573901",
      "metadata": {
        "id": "4e573901"
      },
      "outputs": [],
      "source": [
        "# Include sample input/output for each function"
      ]
    },
    {
      "cell_type": "markdown",
      "id": "d2885880",
      "metadata": {
        "id": "d2885880"
      },
      "source": [
        "## 🗂️ AI Prompting Log (Optional)\n",
        "Add markdown cells here summarising prompts used or link to AI conversations in the `ai-conversations/` folder."
      ]
    }
  ],
  "metadata": {
    "language_info": {
      "name": "python"
    },
    "colab": {
      "provenance": [],
      "include_colab_link": true
    },
    "kernelspec": {
      "name": "python3",
      "display_name": "Python 3"
    }
  },
  "nbformat": 4,
  "nbformat_minor": 5
}