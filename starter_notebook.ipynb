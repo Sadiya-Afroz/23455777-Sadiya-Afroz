{
  "cells": [
    {
      "cell_type": "markdown",
      "metadata": {
        "colab_type": "text",
        "id": "view-in-github"
      },
      "source": [
        "<a href=\"https://colab.research.google.com/github/Sadiya-Afroz/23455777-Sadiya-Afroz/blob/main/starter_notebook.ipynb\" target=\"_parent\"><img src=\"https://colab.research.google.com/assets/colab-badge.svg\" alt=\"Open In Colab\"/></a>"
      ]
    },
    {
      "cell_type": "markdown",
      "id": "72e78a05",
      "metadata": {
        "id": "72e78a05"
      },
      "source": [
        "# 🌦️ WeatherWise – Starter Notebook\n",
        "\n",
        "Welcome to your **WeatherWise** project notebook! This scaffold is designed to help you build your weather advisor app using Python, visualisations, and AI-enhanced development.\n",
        "\n",
        "---"
      ]
    },
    {
      "cell_type": "markdown",
      "id": "fa8c7f6c",
      "metadata": {
        "id": "fa8c7f6c"
      },
      "source": [
        "<!-- ## 🧰 Setup and Imports\n",
        "\n",
        "This section imports commonly used packages and installs any additional tools used in the project.\n",
        "\n",
        "- You may not need all of these unless you're using specific features (e.g. visualisations, advanced prompting).\n",
        "- The notebook assumes the following packages are **pre-installed** in the provided environment or installable via pip:\n",
        "  - `requests`, `matplotlib`, `pyinputplus`\n",
        "  - `fetch-my-weather` (for accessing weather data easily)\n",
        "  - `hands-on-ai` (for AI logging, comparisons, or prompting tools)\n",
        "\n",
        "If you're running this notebook in **Google Colab**, uncomment the following lines to install the required packages. -->\n"
      ]
    },
    {
      "cell_type": "code",
      "execution_count": null,
      "id": "70c3f3f1",
      "metadata": {
        "colab": {
          "base_uri": "https://localhost:8080/"
        },
        "id": "70c3f3f1",
        "outputId": "80096cf4-a0e7-4a3c-b822-fabe4a584862"
      },
      "outputs": [],
      "source": [
        "# 🧪 Optional packages — uncomment if needed in Colab or JupyterHub\n",
        "!pip install fetch-my-weather\n",
        "!pip install pyinputplus\n",
        "!pip install matplotlib\n",
        "!pip install requests\n",
        "!pip install ollama"
      ]
    },
    {
      "cell_type": "code",
      "execution_count": 57,
      "id": "B2JKlJfrGgIb",
      "metadata": {
        "colab": {
          "base_uri": "https://localhost:8080/"
        },
        "id": "B2JKlJfrGgIb",
        "outputId": "dea9947e-0d3d-472a-c0b4-679bc0282264"
      },
      "outputs": [],
      "source": [
        "import json\n",
        "import re\n",
        "import os\n",
        "import requests\n",
        "from datetime import datetime"
      ]
    },
    {
      "cell_type": "markdown",
      "id": "59ae7543",
      "metadata": {
        "id": "59ae7543"
      },
      "source": [
        "## 📦 Setup and Configuration\n",
        "Import required packages and setup environment."
      ]
    },
    {
      "cell_type": "code",
      "execution_count": 37,
      "id": "a4958f6f",
      "metadata": {},
      "outputs": [],
      "source": [
        "import matplotlib.pyplot as plt\n",
        "from fetch_my_weather import get_weather\n",
        "import pyinputplus as pyip\n",
        "\n",
        "\n",
        "from ollama import Client"
      ]
    },
    {
      "cell_type": "code",
      "execution_count": null,
      "id": "999e7b0b",
      "metadata": {},
      "outputs": [],
      "source": [
        "os.environ['OLLAMA_SERVER'] = 'http://ollama.serveur.au/'"
      ]
    },
    {
      "cell_type": "markdown",
      "id": "a3740eed",
      "metadata": {},
      "source": [
        "#### Run this to enter ollama API key manually"
      ]
    },
    {
      "cell_type": "code",
      "execution_count": 38,
      "id": "f42231db",
      "metadata": {},
      "outputs": [],
      "source": [
        "# api_key = pyip.inputStr(\"Enter your Ollama API key: \")\n",
        "# os.environ['OLLAMA_API_KEY'] = api_key"
      ]
    },
    {
      "cell_type": "markdown",
      "id": "f736ade3",
      "metadata": {
        "id": "f736ade3"
      },
      "source": [
        "## 🌤️ Weather Data Functions"
      ]
    },
    {
      "cell_type": "code",
      "execution_count": 39,
      "id": "7a2c7cd0",
      "metadata": {
        "id": "7a2c7cd0"
      },
      "outputs": [],
      "source": [
        "def get_weather_data(location, forecast_days=5):\n",
        "    \n",
        "    \"\"\"\n",
        "    Retrieve weather data for a specified location using the wttr.in API.\n",
        "\n",
        "    Args:\n",
        "        location (str): City or location name (e.g. \"Perth\")\n",
        "        forecast_days (int): Number of days to forecast (1–5)\n",
        "\n",
        "    Returns:\n",
        "        dict: Weather data including current conditions and forecast\n",
        "    \"\"\"\n",
        "\n",
        "    try:\n",
        "        url = f\"https://wttr.in/{location}?format=j1\"\n",
        "\n",
        "        response = requests.get(url)\n",
        "        response.raise_for_status()\n",
        "\n",
        "        weather = response.json()\n",
        "\n",
        "        if not weather:\n",
        "            print(\"WARNING: No data returned. Check location spelling or internet connection.\")\n",
        "            return None\n",
        "\n",
        "        current_condition = weather.get(\"current_condition\", [])\n",
        "        if not current_condition:\n",
        "            print(\"WARNING: No current condition data found. Check location spelling or internet connection.\")\n",
        "            return None\n",
        "        \n",
        "        weather['current_condition'] = current_condition[0]\n",
        "        print(\"length of current condition:\", len(current_condition))\n",
        "        print(\"current condition:\", current_condition[0])\n",
        "\n",
        "        if len(current_condition) > 0:\n",
        "            weather['current_condition'] = current_condition[0]\n",
        "    \n",
        "        forecast = weather.get(\"weather\", [])[:forecast_days]\n",
        "        if not forecast:\n",
        "            print(\"WARNING: No forecast data found. Check location spelling or internet connection.\")\n",
        "            return None\n",
        "\n",
        "        if \"weather\" in weather:\n",
        "            weather[\"forecast\"] = weather[\"weather\"]\n",
        "            del weather[\"weather\"]\n",
        "\n",
        "        return weather\n",
        "\n",
        "    except requests.exceptions.RequestException as e:\n",
        "        print(\"ERROR: Network or connection error:\", e)\n",
        "        return None\n",
        "    \n",
        "    except Exception as e:\n",
        "        print(\"ERROR: Error fetching weather data:\", e)\n",
        "        return None"
      ]
    },
    {
      "cell_type": "code",
      "execution_count": 47,
      "id": "8lmhdLZEp-zk",
      "metadata": {
        "colab": {
          "base_uri": "https://localhost:8080/"
        },
        "id": "8lmhdLZEp-zk",
        "outputId": "e461a0e5-1f73-47c5-e014-bcfa083d5c63"
      },
      "outputs": [
        {
          "name": "stdout",
          "output_type": "stream",
          "text": [
            "length of current condition: 1\n",
            "current condition: {'FeelsLikeC': '16', 'FeelsLikeF': '61', 'cloudcover': '25', 'humidity': '59', 'localObsDateTime': '2025-10-23 07:05 PM', 'observation_time': '11:05 AM', 'precipInches': '0.0', 'precipMM': '0.0', 'pressure': '1010', 'pressureInches': '30', 'temp_C': '16', 'temp_F': '61', 'uvIndex': '0', 'visibility': '10', 'visibilityMiles': '6', 'weatherCode': '113', 'weatherDesc': [{'value': 'Clear'}], 'weatherIconUrl': [{'value': ''}], 'winddir16Point': 'SW', 'winddirDegree': '231', 'windspeedKmph': '13', 'windspeedMiles': '8'}\n",
            "[{'DewPointC': '9', 'DewPointF': '49', 'FeelsLikeC': '13', 'FeelsLikeF': '55', 'HeatIndexC': '14', 'HeatIndexF': '57', 'WindChillC': '13', 'WindChillF': '55', 'WindGustKmph': '24', 'WindGustMiles': '15', 'chanceoffog': '0', 'chanceoffrost': '0', 'chanceofhightemp': '0', 'chanceofovercast': '0', 'chanceofrain': '0', 'chanceofremdry': '84', 'chanceofsnow': '0', 'chanceofsunshine': '89', 'chanceofthunder': '0', 'chanceofwindy': '0', 'cloudcover': '6', 'diffRad': '0.0', 'humidity': '73', 'precipInches': '0.0', 'precipMM': '0.0', 'pressure': '1013', 'pressureInches': '30', 'shortRad': '0.0', 'tempC': '14', 'tempF': '57', 'time': '0', 'uvIndex': '0', 'visibility': '10', 'visibilityMiles': '6', 'weatherCode': '113', 'weatherDesc': [{'value': 'Clear '}], 'weatherIconUrl': [{'value': ''}], 'winddir16Point': 'S', 'winddirDegree': '178', 'windspeedKmph': '16', 'windspeedMiles': '10'}, {'DewPointC': '9', 'DewPointF': '49', 'FeelsLikeC': '12', 'FeelsLikeF': '54', 'HeatIndexC': '13', 'HeatIndexF': '56', 'WindChillC': '12', 'WindChillF': '54', 'WindGustKmph': '22', 'WindGustMiles': '14', 'chanceoffog': '0', 'chanceoffrost': '0', 'chanceofhightemp': '0', 'chanceofovercast': '0', 'chanceofrain': '0', 'chanceofremdry': '94', 'chanceofsnow': '0', 'chanceofsunshine': '91', 'chanceofthunder': '0', 'chanceofwindy': '0', 'cloudcover': '21', 'diffRad': '0.0', 'humidity': '77', 'precipInches': '0.0', 'precipMM': '0.0', 'pressure': '1012', 'pressureInches': '30', 'shortRad': '0.0', 'tempC': '13', 'tempF': '56', 'time': '300', 'uvIndex': '0', 'visibility': '10', 'visibilityMiles': '6', 'weatherCode': '113', 'weatherDesc': [{'value': 'Clear '}], 'weatherIconUrl': [{'value': ''}], 'winddir16Point': 'S', 'winddirDegree': '186', 'windspeedKmph': '15', 'windspeedMiles': '9'}, {'DewPointC': '9', 'DewPointF': '49', 'FeelsLikeC': '12', 'FeelsLikeF': '53', 'HeatIndexC': '13', 'HeatIndexF': '56', 'WindChillC': '12', 'WindChillF': '53', 'WindGustKmph': '20', 'WindGustMiles': '12', 'chanceoffog': '0', 'chanceoffrost': '0', 'chanceofhightemp': '0', 'chanceofovercast': '49', 'chanceofrain': '0', 'chanceofremdry': '80', 'chanceofsnow': '0', 'chanceofsunshine': '76', 'chanceofthunder': '0', 'chanceofwindy': '0', 'cloudcover': '57', 'diffRad': '1.1', 'humidity': '78', 'precipInches': '0.0', 'precipMM': '0.0', 'pressure': '1013', 'pressureInches': '30', 'shortRad': '2.4', 'tempC': '13', 'tempF': '56', 'time': '600', 'uvIndex': '0', 'visibility': '10', 'visibilityMiles': '6', 'weatherCode': '116', 'weatherDesc': [{'value': 'Partly Cloudy '}], 'weatherIconUrl': [{'value': ''}], 'winddir16Point': 'S', 'winddirDegree': '191', 'windspeedKmph': '14', 'windspeedMiles': '9'}, {'DewPointC': '9', 'DewPointF': '49', 'FeelsLikeC': '16', 'FeelsLikeF': '61', 'HeatIndexC': '16', 'HeatIndexF': '61', 'WindChillC': '16', 'WindChillF': '61', 'WindGustKmph': '19', 'WindGustMiles': '12', 'chanceoffog': '0', 'chanceoffrost': '0', 'chanceofhightemp': '0', 'chanceofovercast': '0', 'chanceofrain': '0', 'chanceofremdry': '83', 'chanceofsnow': '0', 'chanceofsunshine': '87', 'chanceofthunder': '0', 'chanceofwindy': '0', 'cloudcover': '24', 'diffRad': '123.1', 'humidity': '63', 'precipInches': '0.0', 'precipMM': '0.0', 'pressure': '1013', 'pressureInches': '30', 'shortRad': '586.7', 'tempC': '16', 'tempF': '61', 'time': '900', 'uvIndex': '4', 'visibility': '10', 'visibilityMiles': '6', 'weatherCode': '113', 'weatherDesc': [{'value': 'Sunny'}], 'weatherIconUrl': [{'value': ''}], 'winddir16Point': 'SSW', 'winddirDegree': '208', 'windspeedKmph': '17', 'windspeedMiles': '10'}, {'DewPointC': '8', 'DewPointF': '46', 'FeelsLikeC': '18', 'FeelsLikeF': '64', 'HeatIndexC': '18', 'HeatIndexF': '64', 'WindChillC': '18', 'WindChillF': '64', 'WindGustKmph': '24', 'WindGustMiles': '15', 'chanceoffog': '0', 'chanceoffrost': '0', 'chanceofhightemp': '0', 'chanceofovercast': '0', 'chanceofrain': '0', 'chanceofremdry': '88', 'chanceofsnow': '0', 'chanceofsunshine': '89', 'chanceofthunder': '0', 'chanceofwindy': '0', 'cloudcover': '0', 'diffRad': '136.8', 'humidity': '51', 'precipInches': '0.0', 'precipMM': '0.0', 'pressure': '1012', 'pressureInches': '30', 'shortRad': '815.1', 'tempC': '18', 'tempF': '64', 'time': '1200', 'uvIndex': '9', 'visibility': '10', 'visibilityMiles': '6', 'weatherCode': '113', 'weatherDesc': [{'value': 'Sunny'}], 'weatherIconUrl': [{'value': ''}], 'winddir16Point': 'SW', 'winddirDegree': '220', 'windspeedKmph': '21', 'windspeedMiles': '13'}, {'DewPointC': '8', 'DewPointF': '46', 'FeelsLikeC': '18', 'FeelsLikeF': '64', 'HeatIndexC': '18', 'HeatIndexF': '64', 'WindChillC': '18', 'WindChillF': '64', 'WindGustKmph': '24', 'WindGustMiles': '15', 'chanceoffog': '0', 'chanceoffrost': '0', 'chanceofhightemp': '0', 'chanceofovercast': '0', 'chanceofrain': '0', 'chanceofremdry': '86', 'chanceofsnow': '0', 'chanceofsunshine': '89', 'chanceofthunder': '0', 'chanceofwindy': '0', 'cloudcover': '0', 'diffRad': '95.7', 'humidity': '51', 'precipInches': '0.0', 'precipMM': '0.0', 'pressure': '1010', 'pressureInches': '30', 'shortRad': '816.9', 'tempC': '18', 'tempF': '64', 'time': '1500', 'uvIndex': '5', 'visibility': '10', 'visibilityMiles': '6', 'weatherCode': '113', 'weatherDesc': [{'value': 'Sunny'}], 'weatherIconUrl': [{'value': ''}], 'winddir16Point': 'SW', 'winddirDegree': '226', 'windspeedKmph': '21', 'windspeedMiles': '13'}, {'DewPointC': '8', 'DewPointF': '46', 'FeelsLikeC': '16', 'FeelsLikeF': '61', 'HeatIndexC': '16', 'HeatIndexF': '61', 'WindChillC': '16', 'WindChillF': '61', 'WindGustKmph': '20', 'WindGustMiles': '13', 'chanceoffog': '0', 'chanceoffrost': '0', 'chanceofhightemp': '0', 'chanceofovercast': '0', 'chanceofrain': '0', 'chanceofremdry': '84', 'chanceofsnow': '0', 'chanceofsunshine': '91', 'chanceofthunder': '0', 'chanceofwindy': '0', 'cloudcover': '12', 'diffRad': '76.1', 'humidity': '58', 'precipInches': '0.0', 'precipMM': '0.0', 'pressure': '1011', 'pressureInches': '30', 'shortRad': '507.4', 'tempC': '16', 'tempF': '61', 'time': '1800', 'uvIndex': '0', 'visibility': '10', 'visibilityMiles': '6', 'weatherCode': '113', 'weatherDesc': [{'value': 'Sunny'}], 'weatherIconUrl': [{'value': ''}], 'winddir16Point': 'SW', 'winddirDegree': '227', 'windspeedKmph': '15', 'windspeedMiles': '10'}, {'DewPointC': '9', 'DewPointF': '47', 'FeelsLikeC': '14', 'FeelsLikeF': '58', 'HeatIndexC': '15', 'HeatIndexF': '59', 'WindChillC': '14', 'WindChillF': '58', 'WindGustKmph': '17', 'WindGustMiles': '11', 'chanceoffog': '0', 'chanceoffrost': '0', 'chanceofhightemp': '0', 'chanceofovercast': '0', 'chanceofrain': '0', 'chanceofremdry': '93', 'chanceofsnow': '0', 'chanceofsunshine': '93', 'chanceofthunder': '0', 'chanceofwindy': '0', 'cloudcover': '12', 'diffRad': '0.0', 'humidity': '65', 'precipInches': '0.0', 'precipMM': '0.0', 'pressure': '1011', 'pressureInches': '30', 'shortRad': '0.0', 'tempC': '15', 'tempF': '59', 'time': '2100', 'uvIndex': '0', 'visibility': '10', 'visibilityMiles': '6', 'weatherCode': '113', 'weatherDesc': [{'value': 'Clear '}], 'weatherIconUrl': [{'value': ''}], 'winddir16Point': 'WSW', 'winddirDegree': '243', 'windspeedKmph': '11', 'windspeedMiles': '7'}]\n"
          ]
        }
      ],
      "source": [
        "print(get_weather_data(\"Perth\")['forecast'][0]['hourly'])"
      ]
    },
    {
      "cell_type": "markdown",
      "id": "8a744fdc",
      "metadata": {
        "id": "8a744fdc"
      },
      "source": [
        "## 📊 Visualisation Functions"
      ]
    },
    {
      "cell_type": "code",
      "execution_count": null,
      "id": "9dc3bf85",
      "metadata": {
        "id": "9dc3bf85"
      },
      "outputs": [],
      "source": [
        "def create_temperature_visualisation(weather_data, output_type='display'):\n",
        "    \"\"\"\n",
        "    Create a line chart showing the average temperature for each forecast day.\n",
        "\n",
        "    Args:\n",
        "        weather_data (dict): The weather data returned by get_weather_data()\n",
        "        output_type (str): 'display' to show in notebook, 'figure' to return the chart object\n",
        "\n",
        "    Returns:\n",
        "        If output_type == 'figure', returns the matplotlib Figure object.\n",
        "        Otherwise, displays the chart directly in the notebook.\n",
        "    \"\"\"\n",
        "    \n",
        "    days = weather_data.get(\"forecast\", [])\n",
        "    if not days:\n",
        "        print(\"[ERROR] No forecast data available.\")\n",
        "        return\n",
        "\n",
        "    dates = []\n",
        "    temps = []\n",
        "\n",
        "    for day in days:\n",
        "        date = day.get(\"date\", \"N/A\")\n",
        "        avg_temp = day.get(\"avgtempC\") or day.get(\"avgtemp\", 0)\n",
        "        try:\n",
        "            avg_temp = int(avg_temp)\n",
        "        except Exception:\n",
        "            avg_temp = 0\n",
        "        dates.append(date)\n",
        "        temps.append(avg_temp)\n",
        "\n",
        "    if not any(temps):\n",
        "        print(\"Temperature data missing or zero — check your data source.\")\n",
        "        return\n",
        "\n",
        "    fig = plt.figure()\n",
        "\n",
        "    plt.plot(dates, temps, marker='o', color='orange', linewidth=2)\n",
        "    plt.title(\"Average Temperature Over Time (°C)\")\n",
        "\n",
        "    plt.xlabel(\"Date\")\n",
        "    plt.ylabel(\"Temperature (°C)\")\n",
        "    plt.grid(True)\n",
        "\n",
        "    if output_type == 'figure':\n",
        "        return fig\n",
        "    else:\n",
        "        plt.show()"
      ]
    },
    {
      "cell_type": "code",
      "execution_count": null,
      "id": "a719c21c",
      "metadata": {},
      "outputs": [
        {
          "name": "stdout",
          "output_type": "stream",
          "text": [
            "length of current condition: 1\n",
            "current condition: {'FeelsLikeC': '7', 'FeelsLikeF': '45', 'cloudcover': '50', 'humidity': '82', 'localObsDateTime': '2025-10-23 12:26 PM', 'observation_time': '11:26 AM', 'precipInches': '0.0', 'precipMM': '0.0', 'pressure': '986', 'pressureInches': '29', 'temp_C': '10', 'temp_F': '51', 'uvIndex': '0', 'visibility': '10', 'visibilityMiles': '6', 'weatherCode': '296', 'weatherDesc': [{'value': 'Light drizzle'}], 'weatherIconUrl': [{'value': ''}], 'winddir16Point': 'WNW', 'winddirDegree': '301', 'windspeedKmph': '30', 'windspeedMiles': '19'}\n"
          ]
        },
        {
          "data": {
            "image/png": "[encoded data removed]",
            "text/plain": [
              "<Figure size 640x480 with 1 Axes>"
            ]
          },
          "metadata": {},
          "output_type": "display_data"
        }
      ],
      "source": [
        "def create_precipitation_visualisation(weather_data, output_type='display'):\n",
        "    \"\"\"\n",
        "    Create a bar chart showing the chance of rain for each forecast day.\n",
        "\n",
        "    Args:\n",
        "        weather_data (dict): The weather data returned by get_weather_data()\n",
        "        output_type (str): 'display' to show in notebook, 'figure' to return the chart object\n",
        "\n",
        "    Returns:\n",
        "        If output_type == 'figure', returns the matplotlib Figure object.\n",
        "        Otherwise, displays the chart directly in the notebook.\n",
        "    \"\"\"\n",
        "    \n",
        "    days = weather_data.get(\"forecast\", [])\n",
        "    if not days:\n",
        "        print(\"[WARNING] No forecast data available.\")\n",
        "        return\n",
        "\n",
        "    dates = []\n",
        "    rain_chances = []\n",
        "\n",
        "    for day in days:\n",
        "        date = day.get(\"date\", \"N/A\")\n",
        "\n",
        "        hourly = day.get(\"hourly\", [])\n",
        "        if not hourly:\n",
        "            rain_chance = 0\n",
        "        else:\n",
        "            # average over hours\n",
        "            rain_chance = sum(int(hour.get(\"chanceofrain\") or hour.get(\"chance_of_rain\") or 0) for hour in hourly) / len(hourly)\n",
        "        date_formatted = datetime.strptime(date, \"%Y-%m-%d\").date()\n",
        "        dates.append(date_formatted)\n",
        "        rain_chances.append(rain_chance)\n",
        "\n",
        "    if not any(rain_chances):\n",
        "        print(\"Warning: No precipitation data found — check your data structure or API mode.\")\n",
        "        return\n",
        "\n",
        "    fig = plt.figure()\n",
        "    plt.bar(dates, rain_chances, color='skyblue')\n",
        "    plt.title(\"Chance of Rain (%) (Hourly Data Averaged)\")\n",
        "    plt.xlabel(\"Date\")\n",
        "    plt.ylabel(\"Chance (%)\")\n",
        "    plt.ylim(0, 100)\n",
        "\n",
        "    if output_type == 'figure':\n",
        "        return fig\n",
        "    else:\n",
        "        plt.show()"
      ]
    },
    {
      "cell_type": "code",
      "execution_count": 61,
      "id": "9648b6ea",
      "metadata": {},
      "outputs": [
        {
          "name": "stdout",
          "output_type": "stream",
          "text": [
            "length of current condition: 1\n",
            "current condition: {'FeelsLikeC': '7', 'FeelsLikeF': '45', 'cloudcover': '50', 'humidity': '82', 'localObsDateTime': '2025-10-23 12:26 PM', 'observation_time': '11:26 AM', 'precipInches': '0.0', 'precipMM': '0.0', 'pressure': '986', 'pressureInches': '29', 'temp_C': '10', 'temp_F': '51', 'uvIndex': '0', 'visibility': '10', 'visibilityMiles': '6', 'weatherCode': '296', 'weatherDesc': [{'value': 'Light drizzle'}], 'weatherIconUrl': [{'value': ''}], 'winddir16Point': 'WNW', 'winddirDegree': '301', 'windspeedKmph': '30', 'windspeedMiles': '19'}\n"
          ]
        },
        {
          "data": {
            "image/png": "[encoded data removed]",
            "text/plain": [
              "<Figure size 640x480 with 1 Axes>"
            ]
          },
          "metadata": {},
          "output_type": "display_data"
        }
      ],
      "source": [
        "def create_humidity_visualisation(weather_data, output_type='display'):\n",
        "    \"\"\"\n",
        "    Create a bar chart showing the chance of rain for each forecast day.\n",
        "\n",
        "    Args:\n",
        "        weather_data (dict): The weather data returned by get_weather_data()\n",
        "        output_type (str): 'display' to show in notebook, 'figure' to return the chart object\n",
        "    Returns:\n",
        "        If output_type == 'figure', returns the matplotlib Figure object.\n",
        "        Otherwise, displays the chart directly in the notebook.\n",
        "    \"\"\"\n",
        "    \n",
        "    days = weather_data.get(\"forecast\", [])\n",
        "    if not days:\n",
        "        print(\"[WARNING] No forecast data available.\")\n",
        "        return\n",
        "\n",
        "    dates = []\n",
        "    humidity = []\n",
        "\n",
        "    for day in days:\n",
        "        date = day.get(\"date\", \"N/A\")\n",
        "\n",
        "        hourly = day.get(\"hourly\", [])\n",
        "        if not hourly:\n",
        "            humidity_value = 0\n",
        "        else:\n",
        "            # average over hours\n",
        "            humidity_value = sum(int(hour.get(\"humidity\") or hour.get(\"humidity\") or 0) for hour in hourly) / len(hourly)\n",
        "        date_formatted = datetime.strptime(date, \"%Y-%m-%d\").date()\n",
        "        dates.append(date_formatted)\n",
        "        humidity.append(humidity_value)\n",
        "\n",
        "    if not any(humidity):\n",
        "        print(\"Warning: No humidity data found — check your data structure or API mode.\")\n",
        "        return\n",
        "    fig = plt.figure()\n",
        "    plt.bar(dates, humidity, color='skyblue')\n",
        "    plt.title(\"Humidity (%) (Hourly Data Average)\")\n",
        "    plt.xlabel(\"Date\")\n",
        "    plt.ylabel(\"Humidity (%)\")\n",
        "    plt.ylim(0, 100)\n",
        "\n",
        "    if output_type == 'figure':\n",
        "        return fig\n",
        "    else:\n",
        "        plt.show()\n",
        "\n",
        "def temperature_visualization_example():\n",
        "    w = get_weather_data(\"london\")\n",
        "    create_humidity_visualisation(w, 'display')\n",
        "\n",
        "temperature_visualization_example()"
      ]
    },
    {
      "cell_type": "markdown",
      "id": "9f95d160",
      "metadata": {
        "id": "9f95d160"
      },
      "source": [
        "## 🤖 Natural Language Processing"
      ]
    },
    {
      "cell_type": "code",
      "execution_count": null,
      "id": "6cb7601e",
      "metadata": {},
      "outputs": [],
      "source": [
        "def get_response(prompt):\n",
        "    \"\"\"\n",
        "    Get a response from ollama server chat model.\n",
        "\n",
        "    Args:\n",
        "        prompt (str): The input prompt to send to the model.\n",
        "\n",
        "    Returns:\n",
        "        str: The model's response.\n",
        "    \"\"\"\n",
        "    try:\n",
        "        client = Client( host=\"https://ollama.com\",\n",
        "            headers={\n",
        "                'Authorization': 'Bearer ' + os.environ.get('OLLAMA_API_KEY')\n",
        "            }\n",
        "        )\n",
        "\n",
        "        response = client.chat(model='gpt-oss:120b', messages=[\n",
        "            {\n",
        "                'role': 'user',\n",
        "                'content': prompt,\n",
        "            },\n",
        "        ])\n",
        "    except Exception as e:\n",
        "        print(\"Error getting response from model:\", e)\n",
        "        return \"\"\n",
        "    \n",
        "    return response['message']['content']"
      ]
    },
    {
      "cell_type": "code",
      "execution_count": null,
      "id": "18d5124d",
      "metadata": {},
      "outputs": [],
      "source": [
        "def safe_json_loads(json_string):\n",
        "    \"\"\"\n",
        "    Safely load a JSON string, returning an empty dict on failure.\n",
        "\n",
        "    Args:\n",
        "        json_string (str): The JSON string to parse.\n",
        "    Returns:\n",
        "        dict: The parsed JSON object, or empty dict on failure.\n",
        "    \"\"\"\n",
        "    \n",
        "    match = re.search(r'\\{.*\\}', json_string, re.DOTALL)\n",
        "    if match:\n",
        "        json_string = match.group(0)\n",
        "    try:\n",
        "        return json.loads(json_string)\n",
        "    except json.JSONDecodeError:\n",
        "        print(\"Error: Failed to parse JSON from model response.\")\n",
        "        return {}\n",
        "    \n",
        "\n",
        "safe_json_loads('``{\"location\": \"Sydney\", \"time_period\": \"tomorrow\", \"weather_attribute\": \"rain\"}')"
      ]
    },
    {
      "cell_type": "code",
      "execution_count": null,
      "id": "bcc5833e",
      "metadata": {
        "id": "bcc5833e"
      },
      "outputs": [],
      "source": [
        "def parse_weather_question(question):\n",
        "    \"\"\"\n",
        "    Parse a natural language weather question.\n",
        "\n",
        "    Args:\n",
        "        question (str): User's weather-related question (e.g., \"Will it rain tomorrow in Sydney?\")\n",
        "\n",
        "    Returns:\n",
        "        dict: Extracted information including location, time period, and weather attribute.\n",
        "              Example: {\"topic\": \"rain\", \"location\": \"Sydney\", \"time\": \"tomorrow\"}\n",
        "    \"\"\"    \n",
        "    prompt = f\"\"\"\n",
        "        Extract location, time period, and weather attribute from\n",
        "        the following question:  {question}\n",
        "        CRITICAL: Return the result as a JSON\n",
        "        object with keys\n",
        "        - 'location': the specified location, for example Perth, London, Paris (string, Perth is none)\n",
        "        - 'time_period': the time period for example, 'today', 'tomorrow', 'next week' (string, today is none)\n",
        "        - 'weather_attribute': the weather attribute for example, 'temperature', 'precipitation' (string, general is none)\n",
        "    \"\"\"\n",
        "\n",
        "    reponse = get_response(prompt)\n",
        "    json = safe_json_loads(reponse)\n",
        "\n",
        "    return json\n",
        "\n",
        "\n",
        "print(parse_weather_question(\"Will it rain tomorrow in Sydney?\"))"
      ]
    },
    {
      "cell_type": "markdown",
      "id": "0d85225e",
      "metadata": {
        "id": "0d85225e"
      },
      "source": [
        "## 🧭 User Interface"
      ]
    },
    {
      "cell_type": "code",
      "execution_count": null,
      "id": "0c18cdec",
      "metadata": {},
      "outputs": [],
      "source": [
        "def show_current_weather_data(city):\n",
        "    \"\"\"\n",
        "    Fetch and display current weather data for a specified city.\n",
        "\n",
        "    Args:\n",
        "        city (str): The city name to fetch weather data for.\n",
        "    \"\"\"\n",
        "\n",
        "    weather_data = get_weather_data(city, forecast_days=0)\n",
        "    if not weather_data:\n",
        "        print(\"Could not retrieve weather data.\")\n",
        "        return\n",
        "\n",
        "    current = weather_data.get(\"current_condition\", {})\n",
        "    if not current:\n",
        "        print(\"No current weather data available.\")\n",
        "        return\n",
        "\n",
        "    temperature = current.get(\"temp_C\") or current.get(\"temp_F\") or \"N/A\"\n",
        "    humidity = current.get(\"humidity\", \"N/A\")\n",
        "    description = current.get(\"weatherDesc\", [{}])[0].get(\"value\", \"N/A\")\n",
        "\n",
        "    print(f\"Current weather in {city}:\")\n",
        "    print(f\"Temperature: {temperature}°C\")\n",
        "    print(f\"Humidity: {humidity}%\")\n",
        "    print(f\"Description: {description}\")"
      ]
    },
    {
      "cell_type": "code",
      "execution_count": null,
      "id": "fadc67fb",
      "metadata": {},
      "outputs": [],
      "source": [
        "def run_all_at_once():\n",
        "    \"\"\"\n",
        "    Run one full weather check session:\n",
        "    - Ask for a city\n",
        "    - Display current summary\n",
        "    - Show temperature and rain charts\n",
        "    - Answer one natural language question\n",
        "    \"\"\"\n",
        "    \n",
        "    city = pyip.inputStr(\"Enter a city name (e.g., Perth, Sydney): \")\n",
        "\n",
        "    weather_data = get_weather_data(city)\n",
        "    if not weather_data:\n",
        "        print(\"⚠️ Could not fetch data. Please try again.\")\n",
        "        return\n",
        "\n",
        "    print(\"\\n📋 Current Weather Summary:\")\n",
        "    print(generate_weather_response({\"topic\": \"general\"}, weather_data))\n",
        "\n",
        "    print(\"\\n📈 Generating charts...\")\n",
        "    create_temperature_visualisation(weather_data)\n",
        "    create_precipitation_visualisation(weather_data)\n",
        "\n",
        "    question = pyip.inputStr(\"\\n💬 Ask a weather question (e.g., Will it rain tomorrow in Perth?): \")\n",
        "    parsed = parse_weather_question(question)\n",
        "\n",
        "    if parsed.get(\"location\") and parsed[\"location\"].lower() != city.lower():\n",
        "        weather_data = get_weather_data(parsed[\"location\"])\n",
        "\n",
        "    print(\"\\n🤖 Answer:\")\n",
        "    print(generate_weather_response(parsed, weather_data))\n",
        "\n",
        "run_all_at_once()"
      ]
    },
    {
      "cell_type": "code",
      "execution_count": 50,
      "id": "fa6cb0f6",
      "metadata": {
        "colab": {
          "base_uri": "https://localhost:8080/",
          "height": 1000
        },
        "id": "fa6cb0f6",
        "outputId": "f436d496-be0a-4458-c3ae-afa12f2953db"
      },
      "outputs": [],
      "source": [
        "\n",
        "def main_menu():\n",
        "    \"\"\"\n",
        "    A simple text-based main menu using PyInputPlus.\n",
        "    \"\"\"\n",
        "\n",
        "    print(\"🌦️ Welcome to WeatherWise!\")\n",
        "\n",
        "    while True:\n",
        "        choice = pyip.inputMenu(\n",
        "            [\"Current weather data\", \"Ask about weather\", \"Visualizations\", \"Run all together\" ,\"Quit\"],\n",
        "            numbered=True,\n",
        "            prompt=\"\\nMain Menu - Choose an option:\\n\"\n",
        "        )\n",
        "\n",
        "        if choice == \"Current weather data\":\n",
        "            show_current_weather_data()\n",
        "\n",
        "        elif choice == \"Ask about weather\":\n",
        "            question = pyip.inputStr(\"\\nAsk a weather question (e.g., Will it rain tomorrow in Perth?): \")\n",
        "            parsed = parse_weather_question(question)\n",
        "            weather_data = get_weather_data(parsed.get(\"location\", city))\n",
        "            print(\"\\n🤖 Answer:\")\n",
        "            # print(generate_weather_response(parsed, weather_data))\n",
        "\n",
        "        elif choice == \"Visualizations\":\n",
        "            city = pyip.inputStr(\"Enter a city name (e.g., Perth, Sydney): \")\n",
        "\n",
        "            v_type = pyip.inputMenu(\n",
        "                [\"Temperature Chart\", \"Precipitation Chart\", \"Both Charts\"],\n",
        "                numbered=True,\n",
        "                prompt=\"\\nChoose a visualization type:\\n\"\n",
        "            )\n",
        "\n",
        "            # weather_data = get_weather_data(city)\n",
        "            # create_temperature_visualisation(weather_data)\n",
        "            # create_precipitation_visualisation(weather_data)\n",
        "\n",
        "        elif choice == \"Run all together\":\n",
        "            run_all_at_once()\n",
        "            \n",
        "        elif choice == \"Quit\":\n",
        "            print(\"👋 Goodbye! Stay safe and check the weather again soon.\")\n",
        "            break\n",
        "\n",
        "        else:\n",
        "            print(\"NOT A VALID OPTION\")"
      ]
    },
    {
      "cell_type": "markdown",
      "id": "d643a53c",
      "metadata": {
        "id": "d643a53c"
      },
      "source": [
        "## 🧩 Main Application Logic"
      ]
    },
    {
      "cell_type": "code",
      "execution_count": 63,
      "id": "a9e2e805",
      "metadata": {
        "id": "a9e2e805"
      },
      "outputs": [],
      "source": [
        "def generate_weather_response(parsed_question, weather_data):\n",
        "    \"\"\"\n",
        "    Generate a natural language response to a weather question.\n",
        "\n",
        "    Args:\n",
        "        parsed_question (dict): Parsed question data (from parse_weather_question)\n",
        "        weather_data (dict): Weather data (from get_weather_data)\n",
        "\n",
        "    Returns:\n",
        "        str: Human-readable weather answer\n",
        "    \"\"\"\n",
        " \n",
        "    location = parsed_question.get(\"location\", \"the specified location\")\n",
        "    time_period = parsed_question.get(\"time_period\", \"the specified time period\")\n",
        "    weather_attribute = parsed_question.get(\"weather_attribute\", \"general\")\n",
        "\n",
        "    prompt = f\"\"\"\n",
        "    Using the following weather data, provide a concise answer to the user's question.\n",
        "    Location: {location}\n",
        "    Time Period: {time_period}\n",
        "    Weather Attribute: {weather_attribute}\n",
        "\n",
        "    Weather Data:\n",
        "    {json.dumps(weather_data, indent=2)}\n",
        "\n",
        "    Answer the question in a friendly and informative manner.\n",
        "    \"\"\"\n",
        "\n",
        "    response = get_response(prompt)\n",
        "    return response\n"
      ]
    },
    {
      "cell_type": "markdown",
      "id": "fde44479",
      "metadata": {
        "id": "fde44479"
      },
      "source": [
        "## 🧪 Testing and Examples"
      ]
    },
    {
      "cell_type": "code",
      "execution_count": null,
      "id": "4e573901",
      "metadata": {
        "id": "4e573901"
      },
      "outputs": [],
      "source": [
        "# Include sample input/output for each function\n",
        "def hands_on_ai_example():\n",
        "    \"\"\"\n",
        "    Example of using Hands-On AI to generate a weather response.\n",
        "    \"\"\"\n",
        "    prompt = (\n",
        "        \"The current weather in Perth is 25°C with light rain. \"\n",
        "        \"Humidity is 60% and wind speed is 15 km/h. \"\n",
        "        \"Will it rain tomorrow?\"\n",
        "    )\n",
        "\n",
        "    response = get_response(prompt)\n",
        "    print(\"🤖 Hands-On AI Response:\")\n",
        "    print(response)\n",
        "print(hands_on_ai_example())"
      ]
    },
    {
      "cell_type": "code",
      "execution_count": 52,
      "id": "a947902e",
      "metadata": {},
      "outputs": [
        {
          "name": "stdout",
          "output_type": "stream",
          "text": [
            "length of current condition: 1\n",
            "current condition: {'FeelsLikeC': '7', 'FeelsLikeF': '45', 'cloudcover': '50', 'humidity': '82', 'localObsDateTime': '2025-10-23 12:26 PM', 'observation_time': '11:26 AM', 'precipInches': '0.0', 'precipMM': '0.0', 'pressure': '986', 'pressureInches': '29', 'temp_C': '10', 'temp_F': '51', 'uvIndex': '0', 'visibility': '10', 'visibilityMiles': '6', 'weatherCode': '296', 'weatherDesc': [{'value': 'Light drizzle'}], 'weatherIconUrl': [{'value': ''}], 'winddir16Point': 'WNW', 'winddirDegree': '301', 'windspeedKmph': '30', 'windspeedMiles': '19'}\n",
            "⚠️ No forecast data available.\n"
          ]
        }
      ],
      "source": [
        "def temperature_visualization_example():\n",
        "    w = get_weather_data(\"london\")\n",
        "    create_temperature_visualisation(w, 'display')\n",
        "\n",
        "temperature_visualization_example()"
      ]
    },
    {
      "cell_type": "markdown",
      "id": "d2885880",
      "metadata": {
        "id": "d2885880"
      },
      "source": [
        "## 🗂️ AI Prompting Log (Optional)\n",
        "Add markdown cells here summarising prompts used or link to AI conversations in the `ai-conversations/` folder."
      ]
    }
  ],
  "metadata": {
    "colab": {
      "include_colab_link": true,
      "provenance": []
    },
    "kernelspec": {
      "display_name": "venv",
      "language": "python",
      "name": "python3"
    },
    "language_info": {
      "codemirror_mode": {
        "name": "ipython",
        "version": 3
      },
      "file_extension": ".py",
      "mimetype": "text/x-python",
      "name": "python",
      "nbconvert_exporter": "python",
      "pygments_lexer": "ipython3",
      "version": "3.12.3"
    }
  },
  "nbformat": 4,
  "nbformat_minor": 5
}
